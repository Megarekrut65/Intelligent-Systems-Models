{
 "cells": [
  {
   "cell_type": "code",
   "execution_count": 301,
   "id": "6a992bcb",
   "metadata": {},
   "outputs": [],
   "source": [
    "import numpy as np\n",
    "import matplotlib.pyplot as plt\n",
    "import pandas as pd\n",
    "\n",
    "%matplotlib inline"
   ]
  },
  {
   "cell_type": "code",
   "execution_count": 302,
   "id": "d40664e2",
   "metadata": {},
   "outputs": [],
   "source": [
    "data = pd.read_csv(\"Expanded_data_with_more_features.csv\")\n",
    "data = data.drop(\"Unnamed: 0\", axis=1)"
   ]
  },
  {
   "cell_type": "code",
   "execution_count": 303,
   "id": "f1bc4579",
   "metadata": {},
   "outputs": [
    {
     "data": {
      "text/html": [
       "<div>\n",
       "<style scoped>\n",
       "    .dataframe tbody tr th:only-of-type {\n",
       "        vertical-align: middle;\n",
       "    }\n",
       "\n",
       "    .dataframe tbody tr th {\n",
       "        vertical-align: top;\n",
       "    }\n",
       "\n",
       "    .dataframe thead th {\n",
       "        text-align: right;\n",
       "    }\n",
       "</style>\n",
       "<table border=\"1\" class=\"dataframe\">\n",
       "  <thead>\n",
       "    <tr style=\"text-align: right;\">\n",
       "      <th></th>\n",
       "      <th>Gender</th>\n",
       "      <th>EthnicGroup</th>\n",
       "      <th>ParentEduc</th>\n",
       "      <th>LunchType</th>\n",
       "      <th>TestPrep</th>\n",
       "      <th>ParentMaritalStatus</th>\n",
       "      <th>PracticeSport</th>\n",
       "      <th>IsFirstChild</th>\n",
       "      <th>NrSiblings</th>\n",
       "      <th>TransportMeans</th>\n",
       "      <th>WklyStudyHours</th>\n",
       "      <th>MathScore</th>\n",
       "      <th>ReadingScore</th>\n",
       "      <th>WritingScore</th>\n",
       "    </tr>\n",
       "  </thead>\n",
       "  <tbody>\n",
       "    <tr>\n",
       "      <th>0</th>\n",
       "      <td>female</td>\n",
       "      <td>NaN</td>\n",
       "      <td>bachelor's degree</td>\n",
       "      <td>standard</td>\n",
       "      <td>none</td>\n",
       "      <td>married</td>\n",
       "      <td>regularly</td>\n",
       "      <td>yes</td>\n",
       "      <td>3.0</td>\n",
       "      <td>school_bus</td>\n",
       "      <td>&lt; 5</td>\n",
       "      <td>71</td>\n",
       "      <td>71</td>\n",
       "      <td>74</td>\n",
       "    </tr>\n",
       "    <tr>\n",
       "      <th>1</th>\n",
       "      <td>female</td>\n",
       "      <td>group C</td>\n",
       "      <td>some college</td>\n",
       "      <td>standard</td>\n",
       "      <td>NaN</td>\n",
       "      <td>married</td>\n",
       "      <td>sometimes</td>\n",
       "      <td>yes</td>\n",
       "      <td>0.0</td>\n",
       "      <td>NaN</td>\n",
       "      <td>5 - 10</td>\n",
       "      <td>69</td>\n",
       "      <td>90</td>\n",
       "      <td>88</td>\n",
       "    </tr>\n",
       "    <tr>\n",
       "      <th>2</th>\n",
       "      <td>female</td>\n",
       "      <td>group B</td>\n",
       "      <td>master's degree</td>\n",
       "      <td>standard</td>\n",
       "      <td>none</td>\n",
       "      <td>single</td>\n",
       "      <td>sometimes</td>\n",
       "      <td>yes</td>\n",
       "      <td>4.0</td>\n",
       "      <td>school_bus</td>\n",
       "      <td>&lt; 5</td>\n",
       "      <td>87</td>\n",
       "      <td>93</td>\n",
       "      <td>91</td>\n",
       "    </tr>\n",
       "    <tr>\n",
       "      <th>3</th>\n",
       "      <td>male</td>\n",
       "      <td>group A</td>\n",
       "      <td>associate's degree</td>\n",
       "      <td>free/reduced</td>\n",
       "      <td>none</td>\n",
       "      <td>married</td>\n",
       "      <td>never</td>\n",
       "      <td>no</td>\n",
       "      <td>1.0</td>\n",
       "      <td>NaN</td>\n",
       "      <td>5 - 10</td>\n",
       "      <td>45</td>\n",
       "      <td>56</td>\n",
       "      <td>42</td>\n",
       "    </tr>\n",
       "    <tr>\n",
       "      <th>4</th>\n",
       "      <td>male</td>\n",
       "      <td>group C</td>\n",
       "      <td>some college</td>\n",
       "      <td>standard</td>\n",
       "      <td>none</td>\n",
       "      <td>married</td>\n",
       "      <td>sometimes</td>\n",
       "      <td>yes</td>\n",
       "      <td>0.0</td>\n",
       "      <td>school_bus</td>\n",
       "      <td>5 - 10</td>\n",
       "      <td>76</td>\n",
       "      <td>78</td>\n",
       "      <td>75</td>\n",
       "    </tr>\n",
       "  </tbody>\n",
       "</table>\n",
       "</div>"
      ],
      "text/plain": [
       "   Gender EthnicGroup          ParentEduc     LunchType TestPrep  \\\n",
       "0  female         NaN   bachelor's degree      standard     none   \n",
       "1  female     group C        some college      standard      NaN   \n",
       "2  female     group B     master's degree      standard     none   \n",
       "3    male     group A  associate's degree  free/reduced     none   \n",
       "4    male     group C        some college      standard     none   \n",
       "\n",
       "  ParentMaritalStatus PracticeSport IsFirstChild  NrSiblings TransportMeans  \\\n",
       "0             married     regularly          yes         3.0     school_bus   \n",
       "1             married     sometimes          yes         0.0            NaN   \n",
       "2              single     sometimes          yes         4.0     school_bus   \n",
       "3             married         never           no         1.0            NaN   \n",
       "4             married     sometimes          yes         0.0     school_bus   \n",
       "\n",
       "  WklyStudyHours  MathScore  ReadingScore  WritingScore  \n",
       "0            < 5         71            71            74  \n",
       "1         5 - 10         69            90            88  \n",
       "2            < 5         87            93            91  \n",
       "3         5 - 10         45            56            42  \n",
       "4         5 - 10         76            78            75  "
      ]
     },
     "execution_count": 303,
     "metadata": {},
     "output_type": "execute_result"
    }
   ],
   "source": [
    "data.head()"
   ]
  },
  {
   "cell_type": "markdown",
   "id": "6f73a638",
   "metadata": {},
   "source": [
    "### Розподіл за статтю серед учнів."
   ]
  },
  {
   "cell_type": "code",
   "execution_count": 304,
   "id": "3de63bb8",
   "metadata": {},
   "outputs": [
    {
     "data": {
      "text/plain": [
       "15217"
      ]
     },
     "execution_count": 304,
     "metadata": {},
     "output_type": "execute_result"
    }
   ],
   "source": [
    "male_count = len(data.loc[data[\"Gender\"] == \"male\"])\n",
    "male_count"
   ]
  },
  {
   "cell_type": "code",
   "execution_count": 305,
   "id": "e60b1b9e",
   "metadata": {},
   "outputs": [
    {
     "data": {
      "text/plain": [
       "15424"
      ]
     },
     "execution_count": 305,
     "metadata": {},
     "output_type": "execute_result"
    }
   ],
   "source": [
    "female_count = len(data.loc[data[\"Gender\"] == \"female\"])\n",
    "female_count"
   ]
  },
  {
   "cell_type": "code",
   "execution_count": 306,
   "id": "256453f8",
   "metadata": {},
   "outputs": [
    {
     "data": {
      "image/png": "[encoded data removed]",
      "text/plain": [
       "<Figure size 640x480 with 1 Axes>"
      ]
     },
     "metadata": {},
     "output_type": "display_data"
    }
   ],
   "source": [
    "count = len(data[\"Gender\"])\n",
    "male_percent = round(male_count/count * 100, 2)\n",
    "female_percent = round(female_count/count * 100, 2)\n",
    "\n",
    "plt.pie([male_count, female_count], labels=[f\"Male {male_percent}%\", f\"Female {female_percent}%\"])\n",
    "plt.show()"
   ]
  },
  {
   "cell_type": "markdown",
   "id": "63945c35",
   "metadata": {},
   "source": [
    "### Зв’язок між етнічною групою та результатами тестів."
   ]
  },
  {
   "cell_type": "code",
   "execution_count": 307,
   "id": "d6e2f3a2",
   "metadata": {},
   "outputs": [
    {
     "data": {
      "text/plain": [
       "'Math: group E - 76.0'"
      ]
     },
     "execution_count": 307,
     "metadata": {},
     "output_type": "execute_result"
    }
   ],
   "source": [
    "ethnic = data.groupby(\"EthnicGroup\")[\"MathScore\"].median()\n",
    "f\"Math: {ethnic.idxmax()} - {ethnic.max()}\""
   ]
  },
  {
   "cell_type": "code",
   "execution_count": 308,
   "id": "79f0368c",
   "metadata": {},
   "outputs": [
    {
     "data": {
      "image/png": "[encoded data removed]",
      "text/plain": [
       "<Figure size 640x480 with 1 Axes>"
      ]
     },
     "metadata": {},
     "output_type": "display_data"
    }
   ],
   "source": [
    "plt.pie(ethnic, labels = ethnic.keys(), explode = ethnic/1000)\n",
    "plt.show()"
   ]
  },
  {
   "cell_type": "code",
   "execution_count": 309,
   "id": "12988371",
   "metadata": {},
   "outputs": [
    {
     "data": {
      "text/plain": [
       "'Reading: group E - 75.0'"
      ]
     },
     "execution_count": 309,
     "metadata": {},
     "output_type": "execute_result"
    }
   ],
   "source": [
    "ethnic = data.groupby(\"EthnicGroup\")[\"ReadingScore\"].median()\n",
    "f\"Reading: {ethnic.idxmax()} - {ethnic.max()}\""
   ]
  },
  {
   "cell_type": "code",
   "execution_count": 310,
   "id": "de16dcc5",
   "metadata": {},
   "outputs": [
    {
     "data": {
      "image/png": "[encoded data removed]",
      "text/plain": [
       "<Figure size 640x480 with 1 Axes>"
      ]
     },
     "metadata": {},
     "output_type": "display_data"
    }
   ],
   "source": [
    "plt.pie(ethnic, labels = ethnic.keys(), explode = ethnic/1000)\n",
    "plt.show()"
   ]
  },
  {
   "cell_type": "code",
   "execution_count": 311,
   "id": "a9687c24",
   "metadata": {},
   "outputs": [
    {
     "data": {
      "text/plain": [
       "'Writing: group E - 73.0'"
      ]
     },
     "execution_count": 311,
     "metadata": {},
     "output_type": "execute_result"
    }
   ],
   "source": [
    "ethnic = data.groupby(\"EthnicGroup\")[\"WritingScore\"].median()\n",
    "f\"Writing: {ethnic.idxmax()} - {ethnic.max()}\""
   ]
  },
  {
   "cell_type": "code",
   "execution_count": 312,
   "id": "61c8279a",
   "metadata": {},
   "outputs": [
    {
     "data": {
      "image/png": "[encoded data removed]",
      "text/plain": [
       "<Figure size 640x480 with 1 Axes>"
      ]
     },
     "metadata": {},
     "output_type": "display_data"
    }
   ],
   "source": [
    "plt.pie(ethnic, labels = ethnic.keys(), explode = ethnic/1000)\n",
    "plt.show()"
   ]
  },
  {
   "cell_type": "markdown",
   "id": "6eb47ce6",
   "metadata": {},
   "source": [
    "### Вплив курсу підготовки до тесту на результати тесту."
   ]
  },
  {
   "cell_type": "code",
   "execution_count": 313,
   "id": "9756b0da",
   "metadata": {},
   "outputs": [
    {
     "data": {
      "text/plain": [
       "'Math: 70.0'"
      ]
     },
     "execution_count": 313,
     "metadata": {},
     "output_type": "execute_result"
    }
   ],
   "source": [
    "test = data.groupby(\"TestPrep\")[\"MathScore\"].median()\n",
    "f'Math: {test[\"completed\"]}'"
   ]
  },
  {
   "cell_type": "code",
   "execution_count": 314,
   "id": "deacffa9",
   "metadata": {},
   "outputs": [
    {
     "data": {
      "image/png": "[encoded data removed]",
      "text/plain": [
       "<Figure size 640x480 with 1 Axes>"
      ]
     },
     "metadata": {},
     "output_type": "display_data"
    }
   ],
   "source": [
    "plt.pie(test, labels = test.keys())\n",
    "plt.show()"
   ]
  },
  {
   "cell_type": "code",
   "execution_count": 315,
   "id": "c7a14239",
   "metadata": {},
   "outputs": [
    {
     "data": {
      "text/plain": [
       "'Reading: 74.0'"
      ]
     },
     "execution_count": 315,
     "metadata": {},
     "output_type": "execute_result"
    }
   ],
   "source": [
    "test = data.groupby(\"TestPrep\")[\"ReadingScore\"].median()\n",
    "f'Reading: {test[\"completed\"]}'"
   ]
  },
  {
   "cell_type": "code",
   "execution_count": 316,
   "id": "d3101875",
   "metadata": {},
   "outputs": [
    {
     "data": {
      "image/png": "[encoded data removed]",
      "text/plain": [
       "<Figure size 640x480 with 1 Axes>"
      ]
     },
     "metadata": {},
     "output_type": "display_data"
    }
   ],
   "source": [
    "plt.pie(test, labels = test.keys())\n",
    "plt.show()"
   ]
  },
  {
   "cell_type": "code",
   "execution_count": 317,
   "id": "a9321088",
   "metadata": {},
   "outputs": [
    {
     "data": {
      "text/plain": [
       "'Writing: 75.0'"
      ]
     },
     "execution_count": 317,
     "metadata": {},
     "output_type": "execute_result"
    }
   ],
   "source": [
    "test = data.groupby(\"TestPrep\")[\"WritingScore\"].median()\n",
    "f'Writing: {test[\"completed\"]}'"
   ]
  },
  {
   "cell_type": "code",
   "execution_count": 318,
   "id": "ba680e2d",
   "metadata": {},
   "outputs": [
    {
     "data": {
      "image/png": "[encoded data removed]",
      "text/plain": [
       "<Figure size 640x480 with 1 Axes>"
      ]
     },
     "metadata": {},
     "output_type": "display_data"
    }
   ],
   "source": [
    "plt.pie(test, labels = test.keys())\n",
    "plt.show()"
   ]
  },
  {
   "cell_type": "markdown",
   "id": "600271bf",
   "metadata": {},
   "source": [
    "###  Розподіл батьків(ів) за сімейним станом серед учнів."
   ]
  },
  {
   "cell_type": "code",
   "execution_count": 319,
   "id": "b27b19b0",
   "metadata": {},
   "outputs": [
    {
     "data": {
      "text/plain": [
       "16844"
      ]
     },
     "execution_count": 319,
     "metadata": {},
     "output_type": "execute_result"
    }
   ],
   "source": [
    "parents = data.groupby(\"ParentMaritalStatus\")[\"ParentMaritalStatus\"].count()\n",
    "parents[\"married\"]"
   ]
  },
  {
   "cell_type": "code",
   "execution_count": 320,
   "id": "962383a1",
   "metadata": {},
   "outputs": [
    {
     "data": {
      "text/plain": [
       "7097"
      ]
     },
     "execution_count": 320,
     "metadata": {},
     "output_type": "execute_result"
    }
   ],
   "source": [
    "parents[\"single\"]"
   ]
  },
  {
   "cell_type": "markdown",
   "id": "811584e8",
   "metadata": {},
   "source": [
    "### Зв’язок між заняттями спортом і результатами тестів."
   ]
  },
  {
   "cell_type": "code",
   "execution_count": 321,
   "id": "df94bae3",
   "metadata": {},
   "outputs": [
    {
     "data": {
      "text/plain": [
       "True"
      ]
     },
     "execution_count": 321,
     "metadata": {},
     "output_type": "execute_result"
    }
   ],
   "source": [
    "sport = data.groupby(\"PracticeSport\")[\"MathScore\"].median()\n",
    "sport[\"regularly\"] > sport[\"never\"]"
   ]
  },
  {
   "cell_type": "code",
   "execution_count": 322,
   "id": "076c8084",
   "metadata": {},
   "outputs": [
    {
     "data": {
      "text/plain": [
       "True"
      ]
     },
     "execution_count": 322,
     "metadata": {},
     "output_type": "execute_result"
    }
   ],
   "source": [
    "sport = data.groupby(\"PracticeSport\")[\"ReadingScore\"].median()\n",
    "sport[\"regularly\"] > sport[\"never\"]"
   ]
  },
  {
   "cell_type": "markdown",
   "id": "979000af",
   "metadata": {},
   "source": [
    "### Розподіл транспортних засобів до школи серед учнів."
   ]
  },
  {
   "cell_type": "code",
   "execution_count": 323,
   "id": "0fe8fb68",
   "metadata": {},
   "outputs": [
    {
     "data": {
      "text/plain": [
       "16145"
      ]
     },
     "execution_count": 323,
     "metadata": {},
     "output_type": "execute_result"
    }
   ],
   "source": [
    "transport = data.groupby(\"TransportMeans\")[\"TransportMeans\"].count()\n",
    "transport[\"school_bus\"]"
   ]
  },
  {
   "cell_type": "code",
   "execution_count": 324,
   "id": "230f1e81",
   "metadata": {},
   "outputs": [
    {
     "data": {
      "text/plain": [
       "11362"
      ]
     },
     "execution_count": 324,
     "metadata": {},
     "output_type": "execute_result"
    }
   ],
   "source": [
    "transport[\"private\"]"
   ]
  },
  {
   "cell_type": "markdown",
   "id": "a1a1023b",
   "metadata": {},
   "source": [
    "# Задача класифікації"
   ]
  },
  {
   "cell_type": "code",
   "execution_count": 325,
   "id": "9acba9a9",
   "metadata": {},
   "outputs": [],
   "source": [
    "data = data.dropna()"
   ]
  },
  {
   "cell_type": "code",
   "execution_count": 326,
   "id": "85cfc981",
   "metadata": {},
   "outputs": [
    {
     "data": {
      "text/plain": [
       "array([[ 0.,  1.,  3.,  1.,  2.,  2.,  1.,  4.,  1.,  1., 81., 82., 81.],\n",
       "       [ 1.,  2.,  4.,  1.,  1.,  2.,  1.,  0.,  1.,  0., 70., 67., 65.],\n",
       "       [ 0.,  1.,  0.,  1.,  1.,  1.,  1.,  1.,  1.,  0., 67., 73., 69.],\n",
       "       [ 0.,  1.,  4.,  1.,  3.,  0.,  0.,  1.,  0.,  0., 79., 82., 79.],\n",
       "       [ 1.,  1.,  4.,  0.,  1.,  2.,  1.,  1.,  0.,  2., 35., 32., 29.]])"
      ]
     },
     "execution_count": 326,
     "metadata": {},
     "output_type": "execute_result"
    }
   ],
   "source": [
    "from sklearn.preprocessing import OrdinalEncoder\n",
    "\n",
    "ordinal_encoder = OrdinalEncoder()\n",
    "X = ordinal_encoder.fit_transform(data.drop(\"TestPrep\", axis=1))\n",
    "X[:5]"
   ]
  },
  {
   "cell_type": "code",
   "execution_count": 327,
   "id": "fe2c4852",
   "metadata": {},
   "outputs": [
    {
     "data": {
      "text/plain": [
       "array([0, 0, 0, 1, 0])"
      ]
     },
     "execution_count": 327,
     "metadata": {},
     "output_type": "execute_result"
    }
   ],
   "source": [
    "y = np.array([0 if i == \"none\" else 1 for i in data[\"TestPrep\"].values])\n",
    "y[:5]"
   ]
  },
  {
   "cell_type": "code",
   "execution_count": 328,
   "id": "d1196341",
   "metadata": {},
   "outputs": [
    {
     "data": {
      "text/plain": [
       "19243"
      ]
     },
     "execution_count": 328,
     "metadata": {},
     "output_type": "execute_result"
    }
   ],
   "source": [
    "len(X)"
   ]
  },
  {
   "cell_type": "code",
   "execution_count": 329,
   "id": "8260b150",
   "metadata": {},
   "outputs": [
    {
     "data": {
      "text/plain": [
       "19243"
      ]
     },
     "execution_count": 329,
     "metadata": {},
     "output_type": "execute_result"
    }
   ],
   "source": [
    "len(y)"
   ]
  },
  {
   "cell_type": "code",
   "execution_count": 330,
   "id": "6d485370",
   "metadata": {},
   "outputs": [],
   "source": [
    "X_train, X_test, y_train, y_test = X[:9000], X[9000:], y[:9000], y[9000:]"
   ]
  },
  {
   "cell_type": "code",
   "execution_count": 331,
   "id": "8e709a0c",
   "metadata": {},
   "outputs": [],
   "source": [
    "y_train_1 = (y_train == 1)"
   ]
  },
  {
   "cell_type": "code",
   "execution_count": 332,
   "id": "0e9f985f",
   "metadata": {},
   "outputs": [
    {
     "data": {
      "text/plain": [
       "SGDClassifier(random_state=13)"
      ]
     },
     "execution_count": 332,
     "metadata": {},
     "output_type": "execute_result"
    }
   ],
   "source": [
    "from sklearn.linear_model import SGDClassifier\n",
    "\n",
    "sgd_clf = SGDClassifier(random_state=13)\n",
    "sgd_clf.fit(X_train, y_train_1)"
   ]
  },
  {
   "cell_type": "code",
   "execution_count": 333,
   "id": "05e2e711",
   "metadata": {},
   "outputs": [
    {
     "data": {
      "text/plain": [
       "array([ True])"
      ]
     },
     "execution_count": 333,
     "metadata": {},
     "output_type": "execute_result"
    }
   ],
   "source": [
    "sgd_clf.predict([X[130]])"
   ]
  },
  {
   "cell_type": "code",
   "execution_count": 334,
   "id": "e6f26d2e",
   "metadata": {},
   "outputs": [
    {
     "data": {
      "text/plain": [
       "1"
      ]
     },
     "execution_count": 334,
     "metadata": {},
     "output_type": "execute_result"
    }
   ],
   "source": [
    "y[130]"
   ]
  },
  {
   "cell_type": "code",
   "execution_count": 335,
   "id": "4ee72983",
   "metadata": {},
   "outputs": [
    {
     "data": {
      "text/plain": [
       "array([0.657     , 0.60633333, 0.697     ])"
      ]
     },
     "execution_count": 335,
     "metadata": {},
     "output_type": "execute_result"
    }
   ],
   "source": [
    "from sklearn.model_selection import cross_val_score\n",
    "\n",
    "cross_val_score(sgd_clf, X_train, y_train_1, cv=3, scoring=\"accuracy\")"
   ]
  },
  {
   "cell_type": "code",
   "execution_count": 336,
   "id": "2fecc60c",
   "metadata": {},
   "outputs": [],
   "source": [
    "from tensorflow import keras\n",
    "\n",
    "model = keras.models.Sequential([\n",
    "    keras.layers.Dense(64, input_dim=X_train.shape[1], activation='relu'),\n",
    "    keras.layers.Dense(32, activation='relu'),\n",
    "    keras.layers.Dense(1)\n",
    "])"
   ]
  },
  {
   "cell_type": "code",
   "execution_count": 337,
   "id": "2e0b3eae",
   "metadata": {},
   "outputs": [],
   "source": [
    "X_valid, X_train_2 = X_train[:5000], X_train[5000:]\n",
    "y_valid, y_train_2 = y_train[:5000], y_train[5000:]"
   ]
  },
  {
   "cell_type": "code",
   "execution_count": 338,
   "id": "88d0b1b1",
   "metadata": {},
   "outputs": [
    {
     "name": "stdout",
     "output_type": "stream",
     "text": [
      "Epoch 1/100\n",
      "282/282 [==============================] - 1s 2ms/step - loss: 1.7778 - accuracy: 0.6300 - val_loss: 0.2033 - val_accuracy: 0.6866\n",
      "Epoch 2/100\n",
      "282/282 [==============================] - 0s 1ms/step - loss: 0.1952 - accuracy: 0.7069 - val_loss: 0.1850 - val_accuracy: 0.7244\n",
      "Epoch 3/100\n",
      "282/282 [==============================] - 0s 1ms/step - loss: 0.1908 - accuracy: 0.7113 - val_loss: 0.2479 - val_accuracy: 0.5968\n",
      "Epoch 4/100\n",
      "282/282 [==============================] - 0s 1ms/step - loss: 0.1868 - accuracy: 0.7216 - val_loss: 0.1863 - val_accuracy: 0.7242\n",
      "Epoch 5/100\n",
      "282/282 [==============================] - 0s 1ms/step - loss: 0.1991 - accuracy: 0.7040 - val_loss: 0.1834 - val_accuracy: 0.7332\n",
      "Epoch 6/100\n",
      "282/282 [==============================] - 0s 1ms/step - loss: 0.1962 - accuracy: 0.7092 - val_loss: 0.2115 - val_accuracy: 0.6668\n",
      "Epoch 7/100\n",
      "282/282 [==============================] - 0s 1ms/step - loss: 0.1974 - accuracy: 0.7093 - val_loss: 0.2030 - val_accuracy: 0.7004\n",
      "Epoch 8/100\n",
      "282/282 [==============================] - 0s 1ms/step - loss: 0.1953 - accuracy: 0.7074 - val_loss: 0.1814 - val_accuracy: 0.7322\n",
      "Epoch 9/100\n",
      "282/282 [==============================] - 0s 1ms/step - loss: 0.1925 - accuracy: 0.7160 - val_loss: 0.2004 - val_accuracy: 0.6844\n",
      "Epoch 10/100\n",
      "282/282 [==============================] - 0s 1ms/step - loss: 0.1898 - accuracy: 0.7221 - val_loss: 0.2071 - val_accuracy: 0.6736\n",
      "Epoch 11/100\n",
      "282/282 [==============================] - 0s 1ms/step - loss: 0.1973 - accuracy: 0.7051 - val_loss: 0.2973 - val_accuracy: 0.6624\n",
      "Epoch 12/100\n",
      "282/282 [==============================] - 0s 1ms/step - loss: 0.2046 - accuracy: 0.7039 - val_loss: 0.2273 - val_accuracy: 0.6450\n",
      "Epoch 13/100\n",
      "282/282 [==============================] - 0s 1ms/step - loss: 0.1904 - accuracy: 0.7178 - val_loss: 0.1851 - val_accuracy: 0.7252\n",
      "Epoch 14/100\n",
      "282/282 [==============================] - 0s 1ms/step - loss: 0.2003 - accuracy: 0.7096 - val_loss: 0.2036 - val_accuracy: 0.6822\n",
      "Epoch 15/100\n",
      "282/282 [==============================] - 0s 1ms/step - loss: 0.1981 - accuracy: 0.7112 - val_loss: 0.2341 - val_accuracy: 0.6414\n",
      "Epoch 16/100\n",
      "282/282 [==============================] - 0s 1ms/step - loss: 0.2068 - accuracy: 0.6998 - val_loss: 0.1768 - val_accuracy: 0.7432\n",
      "Epoch 17/100\n",
      "282/282 [==============================] - 0s 1ms/step - loss: 0.1917 - accuracy: 0.7257 - val_loss: 0.1766 - val_accuracy: 0.7412\n",
      "Epoch 18/100\n",
      "282/282 [==============================] - 0s 1ms/step - loss: 0.1990 - accuracy: 0.7131 - val_loss: 0.2194 - val_accuracy: 0.6970\n",
      "Epoch 19/100\n",
      "282/282 [==============================] - 0s 1ms/step - loss: 0.1971 - accuracy: 0.7089 - val_loss: 0.1937 - val_accuracy: 0.7084\n",
      "Epoch 20/100\n",
      "282/282 [==============================] - 0s 1ms/step - loss: 0.1972 - accuracy: 0.7104 - val_loss: 0.2036 - val_accuracy: 0.6832\n",
      "Epoch 21/100\n",
      "282/282 [==============================] - 0s 1ms/step - loss: 0.1946 - accuracy: 0.7130 - val_loss: 0.3398 - val_accuracy: 0.6584\n",
      "Epoch 22/100\n",
      "282/282 [==============================] - 0s 1ms/step - loss: 0.2131 - accuracy: 0.7017 - val_loss: 0.2192 - val_accuracy: 0.6558\n",
      "Epoch 23/100\n",
      "282/282 [==============================] - 0s 1ms/step - loss: 0.1945 - accuracy: 0.7163 - val_loss: 0.2046 - val_accuracy: 0.7030\n",
      "Epoch 24/100\n",
      "282/282 [==============================] - 0s 1ms/step - loss: 0.1954 - accuracy: 0.7136 - val_loss: 0.4693 - val_accuracy: 0.6554\n",
      "Epoch 25/100\n",
      "282/282 [==============================] - 0s 1ms/step - loss: 0.1990 - accuracy: 0.7134 - val_loss: 0.1890 - val_accuracy: 0.7118\n",
      "Epoch 26/100\n",
      "282/282 [==============================] - 0s 1ms/step - loss: 0.1888 - accuracy: 0.7221 - val_loss: 0.1861 - val_accuracy: 0.7262\n",
      "Epoch 27/100\n",
      "282/282 [==============================] - 0s 1ms/step - loss: 0.1924 - accuracy: 0.7173 - val_loss: 0.1861 - val_accuracy: 0.7252\n",
      "Epoch 28/100\n",
      "282/282 [==============================] - 0s 1ms/step - loss: 0.1882 - accuracy: 0.7233 - val_loss: 0.1784 - val_accuracy: 0.7356\n",
      "Epoch 29/100\n",
      "282/282 [==============================] - 0s 1ms/step - loss: 0.1846 - accuracy: 0.7311 - val_loss: 0.1766 - val_accuracy: 0.7416\n",
      "Epoch 30/100\n",
      "282/282 [==============================] - 0s 1ms/step - loss: 0.1862 - accuracy: 0.7241 - val_loss: 0.1761 - val_accuracy: 0.7400\n",
      "Epoch 31/100\n",
      "282/282 [==============================] - 0s 1ms/step - loss: 0.1887 - accuracy: 0.7238 - val_loss: 0.2193 - val_accuracy: 0.6614\n",
      "Epoch 32/100\n",
      "282/282 [==============================] - 0s 1ms/step - loss: 0.1866 - accuracy: 0.7259 - val_loss: 0.2165 - val_accuracy: 0.6706\n",
      "Epoch 33/100\n",
      "282/282 [==============================] - 0s 1ms/step - loss: 0.1902 - accuracy: 0.7208 - val_loss: 0.1910 - val_accuracy: 0.7068\n",
      "Epoch 34/100\n",
      "282/282 [==============================] - 0s 1ms/step - loss: 0.1862 - accuracy: 0.7223 - val_loss: 0.1849 - val_accuracy: 0.7224\n",
      "Epoch 35/100\n",
      "282/282 [==============================] - 0s 1ms/step - loss: 0.1933 - accuracy: 0.7149 - val_loss: 0.1838 - val_accuracy: 0.7256\n",
      "Epoch 36/100\n",
      "282/282 [==============================] - 0s 1ms/step - loss: 0.1875 - accuracy: 0.7191 - val_loss: 0.1755 - val_accuracy: 0.7408\n",
      "Epoch 37/100\n",
      "282/282 [==============================] - 0s 1ms/step - loss: 0.1858 - accuracy: 0.7278 - val_loss: 0.1839 - val_accuracy: 0.7254\n",
      "Epoch 38/100\n",
      "282/282 [==============================] - 0s 1ms/step - loss: 0.1857 - accuracy: 0.7234 - val_loss: 0.1768 - val_accuracy: 0.7360\n",
      "Epoch 39/100\n",
      "282/282 [==============================] - 0s 1ms/step - loss: 0.1912 - accuracy: 0.7142 - val_loss: 0.1953 - val_accuracy: 0.7026\n",
      "Epoch 40/100\n",
      "282/282 [==============================] - 0s 1ms/step - loss: 0.1863 - accuracy: 0.7256 - val_loss: 0.2012 - val_accuracy: 0.6892\n",
      "Epoch 41/100\n",
      "282/282 [==============================] - 0s 1ms/step - loss: 0.1868 - accuracy: 0.7236 - val_loss: 0.1849 - val_accuracy: 0.7216\n",
      "Epoch 42/100\n",
      "282/282 [==============================] - 0s 1ms/step - loss: 0.1852 - accuracy: 0.7243 - val_loss: 0.1925 - val_accuracy: 0.7088\n",
      "Epoch 43/100\n",
      "282/282 [==============================] - 0s 1ms/step - loss: 0.1910 - accuracy: 0.7103 - val_loss: 0.2011 - val_accuracy: 0.6886\n",
      "Epoch 44/100\n",
      "282/282 [==============================] - 0s 1ms/step - loss: 0.1815 - accuracy: 0.7297 - val_loss: 0.1805 - val_accuracy: 0.7300\n",
      "Epoch 45/100\n",
      "282/282 [==============================] - 0s 1ms/step - loss: 0.1851 - accuracy: 0.7278 - val_loss: 0.1766 - val_accuracy: 0.7358\n",
      "Epoch 46/100\n",
      "282/282 [==============================] - 0s 1ms/step - loss: 0.1798 - accuracy: 0.7377 - val_loss: 0.1769 - val_accuracy: 0.7452\n",
      "Epoch 47/100\n",
      "282/282 [==============================] - 0s 1ms/step - loss: 0.1830 - accuracy: 0.7279 - val_loss: 0.1845 - val_accuracy: 0.7246\n",
      "Epoch 48/100\n",
      "282/282 [==============================] - 0s 1ms/step - loss: 0.1827 - accuracy: 0.7294 - val_loss: 0.1815 - val_accuracy: 0.7288\n",
      "Epoch 49/100\n",
      "282/282 [==============================] - 0s 1ms/step - loss: 0.1840 - accuracy: 0.7276 - val_loss: 0.1837 - val_accuracy: 0.7258\n",
      "Epoch 50/100\n",
      "282/282 [==============================] - 0s 1ms/step - loss: 0.1813 - accuracy: 0.7330 - val_loss: 0.1834 - val_accuracy: 0.7294\n",
      "Epoch 51/100\n",
      "282/282 [==============================] - 0s 1ms/step - loss: 0.1820 - accuracy: 0.7320 - val_loss: 0.1955 - val_accuracy: 0.7080\n",
      "Epoch 52/100\n",
      "282/282 [==============================] - 0s 1ms/step - loss: 0.1828 - accuracy: 0.7287 - val_loss: 0.1760 - val_accuracy: 0.7362\n",
      "Epoch 53/100\n",
      "282/282 [==============================] - 0s 1ms/step - loss: 0.1841 - accuracy: 0.7287 - val_loss: 0.1859 - val_accuracy: 0.7210\n",
      "Epoch 54/100\n",
      "282/282 [==============================] - 0s 1ms/step - loss: 0.1800 - accuracy: 0.7321 - val_loss: 0.1765 - val_accuracy: 0.7360\n",
      "Epoch 55/100\n",
      "282/282 [==============================] - 0s 1ms/step - loss: 0.1836 - accuracy: 0.7299 - val_loss: 0.1759 - val_accuracy: 0.7368\n",
      "Epoch 56/100\n",
      "282/282 [==============================] - 0s 1ms/step - loss: 0.1778 - accuracy: 0.7379 - val_loss: 0.1753 - val_accuracy: 0.7386\n",
      "Epoch 57/100\n",
      "282/282 [==============================] - 0s 1ms/step - loss: 0.1785 - accuracy: 0.7344 - val_loss: 0.1821 - val_accuracy: 0.7362\n"
     ]
    },
    {
     "name": "stdout",
     "output_type": "stream",
     "text": [
      "Epoch 58/100\n",
      "282/282 [==============================] - 0s 1ms/step - loss: 0.1804 - accuracy: 0.7346 - val_loss: 0.1929 - val_accuracy: 0.7058\n",
      "Epoch 59/100\n",
      "282/282 [==============================] - 0s 1ms/step - loss: 0.1798 - accuracy: 0.7369 - val_loss: 0.1798 - val_accuracy: 0.7266\n",
      "Epoch 60/100\n",
      "282/282 [==============================] - 0s 1ms/step - loss: 0.1791 - accuracy: 0.7366 - val_loss: 0.1748 - val_accuracy: 0.7382\n",
      "Epoch 61/100\n",
      "282/282 [==============================] - 0s 1ms/step - loss: 0.1812 - accuracy: 0.7322 - val_loss: 0.1923 - val_accuracy: 0.7056\n",
      "Epoch 62/100\n",
      "282/282 [==============================] - 0s 1ms/step - loss: 0.1772 - accuracy: 0.7390 - val_loss: 0.1959 - val_accuracy: 0.7048\n",
      "Epoch 63/100\n",
      "282/282 [==============================] - 0s 1ms/step - loss: 0.1805 - accuracy: 0.7348 - val_loss: 0.1760 - val_accuracy: 0.7354\n",
      "Epoch 64/100\n",
      "282/282 [==============================] - 0s 1ms/step - loss: 0.1797 - accuracy: 0.7294 - val_loss: 0.1781 - val_accuracy: 0.7386\n",
      "Epoch 65/100\n",
      "282/282 [==============================] - 0s 1ms/step - loss: 0.1777 - accuracy: 0.7383 - val_loss: 0.1802 - val_accuracy: 0.7300\n",
      "Epoch 66/100\n",
      "282/282 [==============================] - 0s 1ms/step - loss: 0.1782 - accuracy: 0.7346 - val_loss: 0.1755 - val_accuracy: 0.7366\n",
      "Epoch 67/100\n",
      "282/282 [==============================] - 0s 1ms/step - loss: 0.1811 - accuracy: 0.7281 - val_loss: 0.1820 - val_accuracy: 0.7256\n",
      "Epoch 68/100\n",
      "282/282 [==============================] - 0s 1ms/step - loss: 0.1779 - accuracy: 0.7382 - val_loss: 0.1826 - val_accuracy: 0.7272\n",
      "Epoch 69/100\n",
      "282/282 [==============================] - 0s 1ms/step - loss: 0.1774 - accuracy: 0.7386 - val_loss: 0.1742 - val_accuracy: 0.7422\n",
      "Epoch 70/100\n",
      "282/282 [==============================] - 0s 1ms/step - loss: 0.1777 - accuracy: 0.7344 - val_loss: 0.1760 - val_accuracy: 0.7350\n",
      "Epoch 71/100\n",
      "282/282 [==============================] - 0s 1ms/step - loss: 0.1768 - accuracy: 0.7383 - val_loss: 0.1761 - val_accuracy: 0.7370\n",
      "Epoch 72/100\n",
      "282/282 [==============================] - 0s 1ms/step - loss: 0.1779 - accuracy: 0.7396 - val_loss: 0.1746 - val_accuracy: 0.7384\n",
      "Epoch 73/100\n",
      "282/282 [==============================] - 0s 1ms/step - loss: 0.1752 - accuracy: 0.7402 - val_loss: 0.1762 - val_accuracy: 0.7380\n",
      "Epoch 74/100\n",
      "282/282 [==============================] - 0s 1ms/step - loss: 0.1765 - accuracy: 0.7397 - val_loss: 0.1742 - val_accuracy: 0.7410\n",
      "Epoch 75/100\n",
      "282/282 [==============================] - 0s 1ms/step - loss: 0.1756 - accuracy: 0.7437 - val_loss: 0.1778 - val_accuracy: 0.7358\n",
      "Epoch 76/100\n",
      "282/282 [==============================] - 0s 1ms/step - loss: 0.1754 - accuracy: 0.7442 - val_loss: 0.1752 - val_accuracy: 0.7444\n",
      "Epoch 77/100\n",
      "282/282 [==============================] - 0s 1ms/step - loss: 0.1766 - accuracy: 0.7396 - val_loss: 0.1739 - val_accuracy: 0.7402\n",
      "Epoch 78/100\n",
      "282/282 [==============================] - 0s 1ms/step - loss: 0.1764 - accuracy: 0.7373 - val_loss: 0.1749 - val_accuracy: 0.7398\n",
      "Epoch 79/100\n",
      "282/282 [==============================] - 0s 1ms/step - loss: 0.1760 - accuracy: 0.7384 - val_loss: 0.1750 - val_accuracy: 0.7416\n",
      "Epoch 80/100\n",
      "282/282 [==============================] - 0s 1ms/step - loss: 0.1756 - accuracy: 0.7406 - val_loss: 0.1786 - val_accuracy: 0.7362\n",
      "Epoch 81/100\n",
      "282/282 [==============================] - 0s 1ms/step - loss: 0.1751 - accuracy: 0.7403 - val_loss: 0.1763 - val_accuracy: 0.7392\n",
      "Epoch 82/100\n",
      "282/282 [==============================] - 0s 1ms/step - loss: 0.1749 - accuracy: 0.7400 - val_loss: 0.1749 - val_accuracy: 0.7398\n",
      "Epoch 83/100\n",
      "282/282 [==============================] - 0s 1ms/step - loss: 0.1769 - accuracy: 0.7389 - val_loss: 0.1746 - val_accuracy: 0.7386\n",
      "Epoch 84/100\n",
      "282/282 [==============================] - 0s 1ms/step - loss: 0.1750 - accuracy: 0.7402 - val_loss: 0.1789 - val_accuracy: 0.7296\n",
      "Epoch 85/100\n",
      "282/282 [==============================] - 0s 1ms/step - loss: 0.1742 - accuracy: 0.7414 - val_loss: 0.1742 - val_accuracy: 0.7374\n",
      "Epoch 86/100\n",
      "282/282 [==============================] - 0s 1ms/step - loss: 0.1745 - accuracy: 0.7412 - val_loss: 0.1752 - val_accuracy: 0.7374\n",
      "Epoch 87/100\n",
      "282/282 [==============================] - 0s 1ms/step - loss: 0.1751 - accuracy: 0.7428 - val_loss: 0.1778 - val_accuracy: 0.7322\n",
      "Epoch 88/100\n",
      "282/282 [==============================] - 0s 1ms/step - loss: 0.1738 - accuracy: 0.7434 - val_loss: 0.1770 - val_accuracy: 0.7360\n",
      "Epoch 89/100\n",
      "282/282 [==============================] - 0s 1ms/step - loss: 0.1756 - accuracy: 0.7350 - val_loss: 0.1758 - val_accuracy: 0.7392\n",
      "Epoch 90/100\n",
      "282/282 [==============================] - 0s 1ms/step - loss: 0.1739 - accuracy: 0.7406 - val_loss: 0.1730 - val_accuracy: 0.7452\n",
      "Epoch 91/100\n",
      "282/282 [==============================] - 0s 1ms/step - loss: 0.1735 - accuracy: 0.7428 - val_loss: 0.1747 - val_accuracy: 0.7380\n",
      "Epoch 92/100\n",
      "282/282 [==============================] - 0s 1ms/step - loss: 0.1753 - accuracy: 0.7400 - val_loss: 0.1729 - val_accuracy: 0.7418\n",
      "Epoch 93/100\n",
      "282/282 [==============================] - 0s 1ms/step - loss: 0.1737 - accuracy: 0.7454 - val_loss: 0.1753 - val_accuracy: 0.7382\n",
      "Epoch 94/100\n",
      "282/282 [==============================] - 0s 1ms/step - loss: 0.1748 - accuracy: 0.7418 - val_loss: 0.1753 - val_accuracy: 0.7416\n",
      "Epoch 95/100\n",
      "282/282 [==============================] - 0s 1ms/step - loss: 0.1738 - accuracy: 0.7472 - val_loss: 0.1808 - val_accuracy: 0.7290\n",
      "Epoch 96/100\n",
      "282/282 [==============================] - 0s 1ms/step - loss: 0.1739 - accuracy: 0.7434 - val_loss: 0.1741 - val_accuracy: 0.7398\n",
      "Epoch 97/100\n",
      "282/282 [==============================] - 0s 1ms/step - loss: 0.1744 - accuracy: 0.7410 - val_loss: 0.1736 - val_accuracy: 0.7424\n",
      "Epoch 98/100\n",
      "282/282 [==============================] - 0s 1ms/step - loss: 0.1751 - accuracy: 0.7407 - val_loss: 0.1731 - val_accuracy: 0.7398\n",
      "Epoch 99/100\n",
      "282/282 [==============================] - 0s 1ms/step - loss: 0.1747 - accuracy: 0.7416 - val_loss: 0.1734 - val_accuracy: 0.7424\n",
      "Epoch 100/100\n",
      "282/282 [==============================] - 0s 1ms/step - loss: 0.1733 - accuracy: 0.7443 - val_loss: 0.1737 - val_accuracy: 0.7402\n"
     ]
    },
    {
     "data": {
      "text/plain": [
       "<keras.callbacks.History at 0x266c6c97388>"
      ]
     },
     "execution_count": 338,
     "metadata": {},
     "output_type": "execute_result"
    }
   ],
   "source": [
    "model.compile(loss='mean_squared_error', optimizer='adam', metrics=[\"accuracy\"])\n",
    "model.fit(X_train, y_train, epochs=100, batch_size=32, verbose=1, validation_data=(X_valid, y_valid))"
   ]
  },
  {
   "cell_type": "code",
   "execution_count": 339,
   "id": "10273b0b",
   "metadata": {},
   "outputs": [
    {
     "name": "stdout",
     "output_type": "stream",
     "text": [
      "1/1 [==============================] - 0s 39ms/step\n"
     ]
    },
    {
     "data": {
      "text/plain": [
       "array([[0.34],\n",
       "       [0.11],\n",
       "       [0.87],\n",
       "       [0.45]], dtype=float32)"
      ]
     },
     "execution_count": 339,
     "metadata": {},
     "output_type": "execute_result"
    }
   ],
   "source": [
    "proba = model.predict(X_test[:4])\n",
    "proba.round(2)"
   ]
  },
  {
   "cell_type": "code",
   "execution_count": 340,
   "id": "8c5066cc",
   "metadata": {},
   "outputs": [
    {
     "name": "stdout",
     "output_type": "stream",
     "text": [
      "321/321 [==============================] - 0s 703us/step - loss: 0.1801 - accuracy: 0.7331\n",
      "Test loss: 0.18008442223072052, Test accuracy:0.7330859899520874\n"
     ]
    }
   ],
   "source": [
    "results = model.evaluate(X_test, y_test)\n",
    "print(f\"Test loss: {results[0]}, Test accuracy:{results[1]}\")"
   ]
  },
  {
   "cell_type": "code",
   "execution_count": 341,
   "id": "f4c3af3d",
   "metadata": {},
   "outputs": [
    {
     "name": "stdout",
     "output_type": "stream",
     "text": [
      "Epoch 1/30\n",
      "125/125 [==============================] - 1s 3ms/step - loss: 1.0317 - accuracy: 0.6158 - val_loss: 0.7549 - val_accuracy: 0.4166\n",
      "Epoch 2/30\n",
      "125/125 [==============================] - 0s 2ms/step - loss: 0.6579 - accuracy: 0.6355 - val_loss: 0.6682 - val_accuracy: 0.6542\n",
      "Epoch 3/30\n",
      "125/125 [==============================] - 0s 2ms/step - loss: 0.6551 - accuracy: 0.6385 - val_loss: 0.6290 - val_accuracy: 0.6542\n",
      "Epoch 4/30\n",
      "125/125 [==============================] - 0s 2ms/step - loss: 0.6282 - accuracy: 0.6568 - val_loss: 0.6833 - val_accuracy: 0.6542\n",
      "Epoch 5/30\n",
      "125/125 [==============================] - 0s 2ms/step - loss: 0.6361 - accuracy: 0.6513 - val_loss: 0.6259 - val_accuracy: 0.6542\n",
      "Epoch 6/30\n",
      "125/125 [==============================] - 0s 2ms/step - loss: 0.6282 - accuracy: 0.6505 - val_loss: 0.6070 - val_accuracy: 0.6664\n",
      "Epoch 7/30\n",
      "125/125 [==============================] - 0s 2ms/step - loss: 0.6175 - accuracy: 0.6582 - val_loss: 0.6022 - val_accuracy: 0.6876\n",
      "Epoch 8/30\n",
      "125/125 [==============================] - 0s 2ms/step - loss: 0.6204 - accuracy: 0.6643 - val_loss: 0.5935 - val_accuracy: 0.6924\n",
      "Epoch 9/30\n",
      "125/125 [==============================] - 0s 2ms/step - loss: 0.6219 - accuracy: 0.6507 - val_loss: 0.6164 - val_accuracy: 0.6542\n",
      "Epoch 10/30\n",
      "125/125 [==============================] - 0s 2ms/step - loss: 0.6096 - accuracy: 0.6645 - val_loss: 0.6077 - val_accuracy: 0.6966\n",
      "Epoch 11/30\n",
      "125/125 [==============================] - 0s 2ms/step - loss: 0.6078 - accuracy: 0.6783 - val_loss: 0.6391 - val_accuracy: 0.6076\n",
      "Epoch 12/30\n",
      "125/125 [==============================] - 0s 2ms/step - loss: 0.5976 - accuracy: 0.6840 - val_loss: 0.5876 - val_accuracy: 0.6956\n",
      "Epoch 13/30\n",
      "125/125 [==============================] - 0s 2ms/step - loss: 0.6069 - accuracy: 0.6750 - val_loss: 0.5866 - val_accuracy: 0.6932\n",
      "Epoch 14/30\n",
      "125/125 [==============================] - 0s 2ms/step - loss: 0.5975 - accuracy: 0.6810 - val_loss: 0.6158 - val_accuracy: 0.6544\n",
      "Epoch 15/30\n",
      "125/125 [==============================] - 0s 2ms/step - loss: 0.5943 - accuracy: 0.6785 - val_loss: 0.6185 - val_accuracy: 0.6442\n",
      "Epoch 16/30\n",
      "125/125 [==============================] - 0s 2ms/step - loss: 0.5902 - accuracy: 0.6890 - val_loss: 0.6012 - val_accuracy: 0.6694\n",
      "Epoch 17/30\n",
      "125/125 [==============================] - 0s 2ms/step - loss: 0.5929 - accuracy: 0.6923 - val_loss: 0.5936 - val_accuracy: 0.6880\n",
      "Epoch 18/30\n",
      "125/125 [==============================] - 0s 2ms/step - loss: 0.5875 - accuracy: 0.6820 - val_loss: 0.5873 - val_accuracy: 0.6980\n",
      "Epoch 19/30\n",
      "125/125 [==============================] - 0s 2ms/step - loss: 0.5869 - accuracy: 0.6875 - val_loss: 0.5772 - val_accuracy: 0.6960\n",
      "Epoch 20/30\n",
      "125/125 [==============================] - 0s 2ms/step - loss: 0.5838 - accuracy: 0.6923 - val_loss: 0.5831 - val_accuracy: 0.7046\n",
      "Epoch 21/30\n",
      "125/125 [==============================] - 0s 2ms/step - loss: 0.5853 - accuracy: 0.6957 - val_loss: 0.5861 - val_accuracy: 0.6828\n",
      "Epoch 22/30\n",
      "125/125 [==============================] - 0s 2ms/step - loss: 0.5843 - accuracy: 0.6955 - val_loss: 0.5816 - val_accuracy: 0.6962\n",
      "Epoch 23/30\n",
      "125/125 [==============================] - 0s 2ms/step - loss: 0.5866 - accuracy: 0.6963 - val_loss: 0.5927 - val_accuracy: 0.7006\n",
      "Epoch 24/30\n",
      "125/125 [==============================] - 0s 2ms/step - loss: 0.5804 - accuracy: 0.7003 - val_loss: 0.5738 - val_accuracy: 0.7016\n",
      "Epoch 25/30\n",
      "125/125 [==============================] - 0s 2ms/step - loss: 0.5795 - accuracy: 0.7007 - val_loss: 0.5715 - val_accuracy: 0.6998\n",
      "Epoch 26/30\n",
      "125/125 [==============================] - 0s 2ms/step - loss: 0.5818 - accuracy: 0.6957 - val_loss: 0.5716 - val_accuracy: 0.7006\n",
      "Epoch 27/30\n",
      "125/125 [==============================] - 0s 2ms/step - loss: 0.5775 - accuracy: 0.7020 - val_loss: 0.5720 - val_accuracy: 0.6956\n",
      "Epoch 28/30\n",
      "125/125 [==============================] - 0s 2ms/step - loss: 0.5797 - accuracy: 0.6948 - val_loss: 0.5748 - val_accuracy: 0.6962\n",
      "Epoch 29/30\n",
      "125/125 [==============================] - 0s 2ms/step - loss: 0.5810 - accuracy: 0.6908 - val_loss: 0.6376 - val_accuracy: 0.6802\n",
      "Epoch 30/30\n",
      "125/125 [==============================] - 0s 2ms/step - loss: 0.5754 - accuracy: 0.6963 - val_loss: 0.5730 - val_accuracy: 0.7018\n"
     ]
    }
   ],
   "source": [
    "model = keras.models.Sequential([\n",
    "    keras.layers.Dense(300, activation=\"relu\"),\n",
    "    keras.layers.Dense(100, activation=\"relu\"),\n",
    "    keras.layers.Dense(10, activation=\"softmax\")\n",
    "])\n",
    "\n",
    "model.compile(loss=\"sparse_categorical_crossentropy\", optimizer=\"sgd\", metrics=[\"accuracy\"])\n",
    "\n",
    "history = model.fit(X_train_2, y_train_2, epochs=30, validation_data=(X_valid, y_valid))"
   ]
  },
  {
   "cell_type": "code",
   "execution_count": 342,
   "id": "f6cc910c",
   "metadata": {},
   "outputs": [
    {
     "name": "stdout",
     "output_type": "stream",
     "text": [
      "1/1 [==============================] - 0s 39ms/step\n"
     ]
    },
    {
     "data": {
      "text/plain": [
       "array([[0.52, 0.48, 0.  , 0.  , 0.  , 0.  , 0.  , 0.  , 0.  , 0.  ],\n",
       "       [0.84, 0.16, 0.  , 0.  , 0.  , 0.  , 0.  , 0.  , 0.  , 0.  ],\n",
       "       [0.49, 0.51, 0.  , 0.  , 0.  , 0.  , 0.  , 0.  , 0.  , 0.  ],\n",
       "       [0.49, 0.51, 0.  , 0.  , 0.  , 0.  , 0.  , 0.  , 0.  , 0.  ]],\n",
       "      dtype=float32)"
      ]
     },
     "execution_count": 342,
     "metadata": {},
     "output_type": "execute_result"
    }
   ],
   "source": [
    "proba = model.predict(X_test[:4])\n",
    "proba.round(2)"
   ]
  },
  {
   "cell_type": "code",
   "execution_count": 343,
   "id": "70ed2d7b",
   "metadata": {},
   "outputs": [
    {
     "name": "stdout",
     "output_type": "stream",
     "text": [
      "1/1 [==============================] - 0s 17ms/step\n"
     ]
    },
    {
     "data": {
      "text/plain": [
       "array([0, 0, 1, 1], dtype=int64)"
      ]
     },
     "execution_count": 343,
     "metadata": {},
     "output_type": "execute_result"
    }
   ],
   "source": [
    "y_pred = np.argmax(model.predict(X_test[:4]), axis=-1)\n",
    "y_pred"
   ]
  },
  {
   "cell_type": "code",
   "execution_count": 344,
   "id": "22152eb2",
   "metadata": {},
   "outputs": [
    {
     "data": {
      "text/plain": [
       "array([0, 0, 1, 1])"
      ]
     },
     "execution_count": 344,
     "metadata": {},
     "output_type": "execute_result"
    }
   ],
   "source": [
    "y_test[:4]"
   ]
  },
  {
   "cell_type": "code",
   "execution_count": 345,
   "id": "e8508c53",
   "metadata": {},
   "outputs": [
    {
     "data": {
      "text/plain": [
       "array([ True,  True,  True,  True])"
      ]
     },
     "execution_count": 345,
     "metadata": {},
     "output_type": "execute_result"
    }
   ],
   "source": [
    "y_test[:4] == y_pred"
   ]
  },
  {
   "cell_type": "code",
   "execution_count": 346,
   "id": "89ad37f5",
   "metadata": {},
   "outputs": [
    {
     "name": "stdout",
     "output_type": "stream",
     "text": [
      "321/321 [==============================] - 0s 795us/step - loss: 0.5729 - accuracy: 0.7071\n",
      "Test loss: 0.572934627532959, Test accuracy:0.7071170806884766\n"
     ]
    }
   ],
   "source": [
    "results = model.evaluate(X_test, y_test)\n",
    "print(f\"Test loss: {results[0]}, Test accuracy:{results[1]}\")"
   ]
  },
  {
   "cell_type": "code",
   "execution_count": null,
   "id": "717a2dc8",
   "metadata": {},
   "outputs": [],
   "source": []
  }
 ],
 "metadata": {
  "kernelspec": {
   "display_name": "Python 3 (ipykernel)",
   "language": "python",
   "name": "python3"
  },
  "language_info": {
   "codemirror_mode": {
    "name": "ipython",
    "version": 3
   },
   "file_extension": ".py",
   "mimetype": "text/x-python",
   "name": "python",
   "nbconvert_exporter": "python",
   "pygments_lexer": "ipython3",
   "version": "3.7.7"
  }
 },
 "nbformat": 4,
 "nbformat_minor": 5
}
