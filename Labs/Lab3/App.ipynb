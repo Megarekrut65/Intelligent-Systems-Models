{
 "cells": [
  {
   "cell_type": "code",
   "execution_count": 222,
   "id": "e5ffaf02",
   "metadata": {},
   "outputs": [],
   "source": [
    "import pandas as pd\n",
    "import numpy as np\n",
    "import csv\n",
    "\n",
    "def csv_to_data_frame(file_name):\n",
    "    titles = []\n",
    "    datas = []\n",
    "\n",
    "    with open(file_name, mode='r') as csv_file:\n",
    "        csv_reader = csv.DictReader(csv_file)\n",
    "        line_count = 0\n",
    "        for row in csv_reader:\n",
    "            if line_count == 0:\n",
    "                titles = row\n",
    "                line_count += 1\n",
    "            datas.append([int(value) if value.isnumeric() else value for (key, value) in row.items()])\n",
    "            line_count += 1\n",
    "        names = pd.DataFrame(datas, columns=titles)\n",
    "\n",
    "        return names"
   ]
  },
  {
   "cell_type": "code",
   "execution_count": 223,
   "id": "2f185530",
   "metadata": {},
   "outputs": [],
   "source": [
    "data = csv_to_data_frame(\"NationalNames.csv\")"
   ]
  },
  {
   "cell_type": "code",
   "execution_count": 50,
   "outputs": [
    {
     "data": {
      "text/plain": "Index(['Id', 'Name', 'Year', 'Gender', 'Count'], dtype='object')"
     },
     "execution_count": 50,
     "metadata": {},
     "output_type": "execute_result"
    }
   ],
   "source": [
    "# task_3\n",
    "data.columns"
   ],
   "metadata": {
    "collapsed": false
   }
  },
  {
   "cell_type": "code",
   "execution_count": 51,
   "outputs": [
    {
     "data": {
      "text/plain": "                 Id          Year         Count\ncount  1.825433e+06  1.825433e+06  1.825433e+06\nmean   9.127170e+05  1.972620e+03  1.846879e+02\nstd    5.269573e+05  3.352891e+01  1.566711e+03\nmin    1.000000e+00  1.880000e+03  5.000000e+00\n25%    4.563590e+05  1.949000e+03  7.000000e+00\n50%    9.127170e+05  1.982000e+03  1.200000e+01\n75%    1.369075e+06  2.001000e+03  3.200000e+01\nmax    1.825433e+06  2.014000e+03  9.968000e+04",
      "text/html": "<div>\n<style scoped>\n    .dataframe tbody tr th:only-of-type {\n        vertical-align: middle;\n    }\n\n    .dataframe tbody tr th {\n        vertical-align: top;\n    }\n\n    .dataframe thead th {\n        text-align: right;\n    }\n</style>\n<table border=\"1\" class=\"dataframe\">\n  <thead>\n    <tr style=\"text-align: right;\">\n      <th></th>\n      <th>Id</th>\n      <th>Year</th>\n      <th>Count</th>\n    </tr>\n  </thead>\n  <tbody>\n    <tr>\n      <th>count</th>\n      <td>1.825433e+06</td>\n      <td>1.825433e+06</td>\n      <td>1.825433e+06</td>\n    </tr>\n    <tr>\n      <th>mean</th>\n      <td>9.127170e+05</td>\n      <td>1.972620e+03</td>\n      <td>1.846879e+02</td>\n    </tr>\n    <tr>\n      <th>std</th>\n      <td>5.269573e+05</td>\n      <td>3.352891e+01</td>\n      <td>1.566711e+03</td>\n    </tr>\n    <tr>\n      <th>min</th>\n      <td>1.000000e+00</td>\n      <td>1.880000e+03</td>\n      <td>5.000000e+00</td>\n    </tr>\n    <tr>\n      <th>25%</th>\n      <td>4.563590e+05</td>\n      <td>1.949000e+03</td>\n      <td>7.000000e+00</td>\n    </tr>\n    <tr>\n      <th>50%</th>\n      <td>9.127170e+05</td>\n      <td>1.982000e+03</td>\n      <td>1.200000e+01</td>\n    </tr>\n    <tr>\n      <th>75%</th>\n      <td>1.369075e+06</td>\n      <td>2.001000e+03</td>\n      <td>3.200000e+01</td>\n    </tr>\n    <tr>\n      <th>max</th>\n      <td>1.825433e+06</td>\n      <td>2.014000e+03</td>\n      <td>9.968000e+04</td>\n    </tr>\n  </tbody>\n</table>\n</div>"
     },
     "execution_count": 51,
     "metadata": {},
     "output_type": "execute_result"
    }
   ],
   "source": [
    "#task_4\n",
    "data[[\"Id\", \"Year\", \"Count\"]].describe()"
   ],
   "metadata": {
    "collapsed": false
   }
  },
  {
   "cell_type": "code",
   "execution_count": 53,
   "outputs": [
    {
     "data": {
      "text/plain": "93889"
     },
     "execution_count": 53,
     "metadata": {},
     "output_type": "execute_result"
    }
   ],
   "source": [
    "#task_5\n",
    "data[\"Name\"].nunique()"
   ],
   "metadata": {
    "collapsed": false
   }
  },
  {
   "cell_type": "code",
   "execution_count": 58,
   "outputs": [
    {
     "data": {
      "text/plain": "\"The name is 'Linda' in 1947\""
     },
     "execution_count": 58,
     "metadata": {},
     "output_type": "execute_result"
    }
   ],
   "source": [
    "#task_8\n",
    "max_item = data.loc[data['Count'].idxmax()]\n",
    "f\"The name is '{max_item['Name']}' in {max_item['Year']}\""
   ],
   "metadata": {
    "collapsed": false
   }
  },
  {
   "cell_type": "code",
   "execution_count": 63,
   "outputs": [
    {
     "data": {
      "text/plain": "254615"
     },
     "execution_count": 63,
     "metadata": {},
     "output_type": "execute_result"
    }
   ],
   "source": [
    "#task_9\n",
    "len(data.loc[data[\"Count\"] == data[\"Count\"].min()])"
   ],
   "metadata": {
    "collapsed": false
   }
  },
  {
   "cell_type": "code",
   "execution_count": 115,
   "outputs": [
    {
     "data": {
      "text/plain": "Year\n2008    32488\nName: Name, dtype: int64"
     },
     "execution_count": 115,
     "metadata": {},
     "output_type": "execute_result"
    }
   ],
   "source": [
    "#task_11\n",
    "unique = data.groupby(\"Year\")[\"Name\"].nunique()\n",
    "popular_year = unique.idxmax()\n",
    "unique.loc[popular_year:popular_year]"
   ],
   "metadata": {
    "collapsed": false
   }
  },
  {
   "cell_type": "code",
   "execution_count": 121,
   "outputs": [
    {
     "data": {
      "text/plain": "'Jacob'"
     },
     "execution_count": 121,
     "metadata": {},
     "output_type": "execute_result"
    }
   ],
   "source": [
    "#task_12\n",
    "popular_group = data.groupby(\"Year\").get_group(popular_year)\n",
    "popular_group.loc[popular_group['Count'].idxmax()].loc[\"Name\"]"
   ],
   "metadata": {
    "collapsed": false
   }
  },
  {
   "cell_type": "code",
   "execution_count": 140,
   "outputs": [
    {
     "data": {
      "text/plain": "              Id   Name  Year Gender  Count\n1455556  1455557  Jacob  2004      F    171",
      "text/html": "<div>\n<style scoped>\n    .dataframe tbody tr th:only-of-type {\n        vertical-align: middle;\n    }\n\n    .dataframe tbody tr th {\n        vertical-align: top;\n    }\n\n    .dataframe thead th {\n        text-align: right;\n    }\n</style>\n<table border=\"1\" class=\"dataframe\">\n  <thead>\n    <tr style=\"text-align: right;\">\n      <th></th>\n      <th>Id</th>\n      <th>Name</th>\n      <th>Year</th>\n      <th>Gender</th>\n      <th>Count</th>\n    </tr>\n  </thead>\n  <tbody>\n    <tr>\n      <th>1455556</th>\n      <td>1455557</td>\n      <td>Jacob</td>\n      <td>2004</td>\n      <td>F</td>\n      <td>171</td>\n    </tr>\n  </tbody>\n</table>\n</div>"
     },
     "execution_count": 140,
     "metadata": {},
     "output_type": "execute_result"
    }
   ],
   "source": [
    "#task_13\n",
    "group_name = data.groupby(\"Name\")\n",
    "jacob_group = group_name.get_group(\"Jacob\")\n",
    "jacob_f = jacob_group.loc[jacob_group[\"Gender\"] == \"F\"]\n",
    "f_index = jacob_f[\"Count\"].idxmax()\n",
    "jacob_f.loc[f_index:f_index]"
   ],
   "metadata": {
    "collapsed": false
   }
  },
  {
   "cell_type": "code",
   "execution_count": 253,
   "outputs": [
    {
     "data": {
      "text/plain": "   Year  Gender_neutral_names\n0  2008                  2557",
      "text/html": "<div>\n<style scoped>\n    .dataframe tbody tr th:only-of-type {\n        vertical-align: middle;\n    }\n\n    .dataframe tbody tr th {\n        vertical-align: top;\n    }\n\n    .dataframe thead th {\n        text-align: right;\n    }\n</style>\n<table border=\"1\" class=\"dataframe\">\n  <thead>\n    <tr style=\"text-align: right;\">\n      <th></th>\n      <th>Year</th>\n      <th>Gender_neutral_names</th>\n    </tr>\n  </thead>\n  <tbody>\n    <tr>\n      <th>0</th>\n      <td>2008</td>\n      <td>2557</td>\n    </tr>\n  </tbody>\n</table>\n</div>"
     },
     "execution_count": 253,
     "metadata": {},
     "output_type": "execute_result"
    }
   ],
   "source": [
    "#task_14\n",
    "group = pd.DataFrame(data.groupby([\"Year\", \"Gender\"])[\"Name\"].unique())\n",
    "year_set = list(set([item[0] for item in group.index]))\n",
    "\n",
    "m_array = group.loc[(year_set[0], \"M\")].values[0]\n",
    "f_array = group.loc[(year_set[0], \"F\")].values[0]\n",
    "max_count = len(np.intersect1d(m_array, f_array))\n",
    "max_year = year_set[0]\n",
    "for i in range(1, len(year_set)):\n",
    "    year = year_set[i]\n",
    "    m_array = group.loc[(year, \"M\")].values[0]\n",
    "    f_array = group.loc[(year, \"F\")].values[0]\n",
    "    count = len(np.intersect1d(m_array, f_array))\n",
    "    if count > max_count:\n",
    "        max_count = count\n",
    "        max_year = year\n",
    "\n",
    "pd.DataFrame([[max_year, max_count]], columns=[\"Year\", \"Gender_neutral_names\"])\n"
   ],
   "metadata": {
    "collapsed": false
   }
  },
  {
   "cell_type": "code",
   "execution_count": 238,
   "outputs": [],
   "source": [],
   "metadata": {
    "collapsed": false
   }
  },
  {
   "cell_type": "code",
   "execution_count": 235,
   "outputs": [],
   "source": [],
   "metadata": {
    "collapsed": false
   }
  }
 ],
 "metadata": {
  "kernelspec": {
   "display_name": "Python 3 (ipykernel)",
   "language": "python",
   "name": "python3"
  },
  "language_info": {
   "codemirror_mode": {
    "name": "ipython",
    "version": 3
   },
   "file_extension": ".py",
   "mimetype": "text/x-python",
   "name": "python",
   "nbconvert_exporter": "python",
   "pygments_lexer": "ipython3",
   "version": "3.7.7"
  }
 },
 "nbformat": 4,
 "nbformat_minor": 5
}
