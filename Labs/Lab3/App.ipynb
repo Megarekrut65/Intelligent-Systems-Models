{
 "cells": [
  {
   "cell_type": "code",
   "execution_count": 1,
   "id": "e5ffaf02",
   "metadata": {},
   "outputs": [],
   "source": [
    "import pandas as pd\n",
    "import numpy as np\n",
    "import csv\n",
    "\n",
    "def csv_to_data_frame(file_name):\n",
    "    titles = []\n",
    "    datas = []\n",
    "\n",
    "    with open(file_name, mode='r') as csv_file:\n",
    "        csv_reader = csv.DictReader(csv_file)\n",
    "        line_count = 0\n",
    "        for row in csv_reader:\n",
    "            if line_count == 0:\n",
    "                titles = row\n",
    "                line_count += 1\n",
    "            datas.append([int(value) if value.isnumeric() else value for (key, value) in row.items()])\n",
    "            line_count += 1\n",
    "        names = pd.DataFrame(datas, columns=titles)\n",
    "\n",
    "        return names"
   ]
  },
  {
   "cell_type": "code",
   "execution_count": 2,
   "id": "2f185530",
   "metadata": {},
   "outputs": [],
   "source": [
    "data = csv_to_data_frame(\"NationalNames.csv\")"
   ]
  },
  {
   "cell_type": "code",
   "execution_count": 3,
   "outputs": [
    {
     "data": {
      "text/plain": "Index(['Id', 'Name', 'Year', 'Gender', 'Count'], dtype='object')"
     },
     "execution_count": 3,
     "metadata": {},
     "output_type": "execute_result"
    }
   ],
   "source": [
    "# task_3 Отримайте імена стовпців набору даних\n",
    "data.columns"
   ],
   "metadata": {
    "collapsed": false
   }
  },
  {
   "cell_type": "code",
   "execution_count": 4,
   "outputs": [
    {
     "data": {
      "text/plain": "                 Id          Year         Count\ncount  1.825433e+06  1.825433e+06  1.825433e+06\nmean   9.127170e+05  1.972620e+03  1.846879e+02\nstd    5.269573e+05  3.352891e+01  1.566711e+03\nmin    1.000000e+00  1.880000e+03  5.000000e+00\n25%    4.563590e+05  1.949000e+03  7.000000e+00\n50%    9.127170e+05  1.982000e+03  1.200000e+01\n75%    1.369075e+06  2.001000e+03  3.200000e+01\nmax    1.825433e+06  2.014000e+03  9.968000e+04",
      "text/html": "<div>\n<style scoped>\n    .dataframe tbody tr th:only-of-type {\n        vertical-align: middle;\n    }\n\n    .dataframe tbody tr th {\n        vertical-align: top;\n    }\n\n    .dataframe thead th {\n        text-align: right;\n    }\n</style>\n<table border=\"1\" class=\"dataframe\">\n  <thead>\n    <tr style=\"text-align: right;\">\n      <th></th>\n      <th>Id</th>\n      <th>Year</th>\n      <th>Count</th>\n    </tr>\n  </thead>\n  <tbody>\n    <tr>\n      <th>count</th>\n      <td>1.825433e+06</td>\n      <td>1.825433e+06</td>\n      <td>1.825433e+06</td>\n    </tr>\n    <tr>\n      <th>mean</th>\n      <td>9.127170e+05</td>\n      <td>1.972620e+03</td>\n      <td>1.846879e+02</td>\n    </tr>\n    <tr>\n      <th>std</th>\n      <td>5.269573e+05</td>\n      <td>3.352891e+01</td>\n      <td>1.566711e+03</td>\n    </tr>\n    <tr>\n      <th>min</th>\n      <td>1.000000e+00</td>\n      <td>1.880000e+03</td>\n      <td>5.000000e+00</td>\n    </tr>\n    <tr>\n      <th>25%</th>\n      <td>4.563590e+05</td>\n      <td>1.949000e+03</td>\n      <td>7.000000e+00</td>\n    </tr>\n    <tr>\n      <th>50%</th>\n      <td>9.127170e+05</td>\n      <td>1.982000e+03</td>\n      <td>1.200000e+01</td>\n    </tr>\n    <tr>\n      <th>75%</th>\n      <td>1.369075e+06</td>\n      <td>2.001000e+03</td>\n      <td>3.200000e+01</td>\n    </tr>\n    <tr>\n      <th>max</th>\n      <td>1.825433e+06</td>\n      <td>2.014000e+03</td>\n      <td>9.968000e+04</td>\n    </tr>\n  </tbody>\n</table>\n</div>"
     },
     "execution_count": 4,
     "metadata": {},
     "output_type": "execute_result"
    }
   ],
   "source": [
    "#task_4 Отримайте загальну інформацію про дані у наборі даних\n",
    "data[[\"Id\", \"Year\", \"Count\"]].describe()"
   ],
   "metadata": {
    "collapsed": false
   }
  },
  {
   "cell_type": "code",
   "execution_count": 5,
   "outputs": [
    {
     "data": {
      "text/plain": "93889"
     },
     "execution_count": 5,
     "metadata": {},
     "output_type": "execute_result"
    }
   ],
   "source": [
    "#task_5 Знайдіть кількість унікальних імен у наборі даних\n",
    "data[\"Name\"].nunique()"
   ],
   "metadata": {
    "collapsed": false
   }
  },
  {
   "cell_type": "code",
   "execution_count": 6,
   "outputs": [
    {
     "data": {
      "text/plain": "\"The name is 'Linda' in 1947\""
     },
     "execution_count": 6,
     "metadata": {},
     "output_type": "execute_result"
    }
   ],
   "source": [
    "#task_8 Знайдіть найпопулярніше ім’я за результатами одного року (ім’я, для якого Count максимальне)\n",
    "max_item = data.loc[data['Count'].idxmax()]\n",
    "f\"The name is '{max_item['Name']}' in {max_item['Year']}\""
   ],
   "metadata": {
    "collapsed": false
   }
  },
  {
   "cell_type": "code",
   "execution_count": 7,
   "outputs": [
    {
     "data": {
      "text/plain": "254615"
     },
     "execution_count": 7,
     "metadata": {},
     "output_type": "execute_result"
    }
   ],
   "source": [
    "#task_9 Підрахуйте кількість записів, для яких Count - мінімальне у наборі.\n",
    "len(data.loc[data[\"Count\"] == data[\"Count\"].min()])"
   ],
   "metadata": {
    "collapsed": false
   }
  },
  {
   "cell_type": "code",
   "execution_count": 8,
   "outputs": [
    {
     "data": {
      "text/plain": "Year\n2008    32488\nName: Name, dtype: int64"
     },
     "execution_count": 8,
     "metadata": {},
     "output_type": "execute_result"
    }
   ],
   "source": [
    "#task_11 Знайдіть рік із найбільшою кількістю унікальних імен\n",
    "unique = data.groupby(\"Year\")[\"Name\"].nunique()\n",
    "popular_year = unique.idxmax()\n",
    "unique.loc[popular_year:popular_year]"
   ],
   "metadata": {
    "collapsed": false
   }
  },
  {
   "cell_type": "code",
   "execution_count": 9,
   "outputs": [
    {
     "data": {
      "text/plain": "'Jacob'"
     },
     "execution_count": 9,
     "metadata": {},
     "output_type": "execute_result"
    }
   ],
   "source": [
    "#task_12 Знайдіть найпопулярніше ім’я в році з найбільшою кількістю унікальних імен (тобто у 2008 році)\n",
    "popular_group = data.groupby(\"Year\").get_group(popular_year)\n",
    "popular_group.loc[popular_group['Count'].idxmax()].loc[\"Name\"]"
   ],
   "metadata": {
    "collapsed": false
   }
  },
  {
   "cell_type": "code",
   "execution_count": 10,
   "outputs": [
    {
     "data": {
      "text/plain": "              Id   Name  Year Gender  Count\n1455556  1455557  Jacob  2004      F    171",
      "text/html": "<div>\n<style scoped>\n    .dataframe tbody tr th:only-of-type {\n        vertical-align: middle;\n    }\n\n    .dataframe tbody tr th {\n        vertical-align: top;\n    }\n\n    .dataframe thead th {\n        text-align: right;\n    }\n</style>\n<table border=\"1\" class=\"dataframe\">\n  <thead>\n    <tr style=\"text-align: right;\">\n      <th></th>\n      <th>Id</th>\n      <th>Name</th>\n      <th>Year</th>\n      <th>Gender</th>\n      <th>Count</th>\n    </tr>\n  </thead>\n  <tbody>\n    <tr>\n      <th>1455556</th>\n      <td>1455557</td>\n      <td>Jacob</td>\n      <td>2004</td>\n      <td>F</td>\n      <td>171</td>\n    </tr>\n  </tbody>\n</table>\n</div>"
     },
     "execution_count": 10,
     "metadata": {},
     "output_type": "execute_result"
    }
   ],
   "source": [
    "#task_13 Знайдіть рік, коли ім’я “Jacob” було найпопулярнішим серед жіночих імен\n",
    "group_name = data.groupby(\"Name\")\n",
    "jacob_group = group_name.get_group(\"Jacob\")\n",
    "jacob_f = jacob_group.loc[jacob_group[\"Gender\"] == \"F\"]\n",
    "f_index = jacob_f[\"Count\"].idxmax()\n",
    "jacob_f.loc[f_index:f_index]"
   ],
   "metadata": {
    "collapsed": false
   }
  },
  {
   "cell_type": "code",
   "execution_count": 11,
   "outputs": [
    {
     "data": {
      "text/plain": "   Year  Gender_neutral_names\n0  2008                  2557",
      "text/html": "<div>\n<style scoped>\n    .dataframe tbody tr th:only-of-type {\n        vertical-align: middle;\n    }\n\n    .dataframe tbody tr th {\n        vertical-align: top;\n    }\n\n    .dataframe thead th {\n        text-align: right;\n    }\n</style>\n<table border=\"1\" class=\"dataframe\">\n  <thead>\n    <tr style=\"text-align: right;\">\n      <th></th>\n      <th>Year</th>\n      <th>Gender_neutral_names</th>\n    </tr>\n  </thead>\n  <tbody>\n    <tr>\n      <th>0</th>\n      <td>2008</td>\n      <td>2557</td>\n    </tr>\n  </tbody>\n</table>\n</div>"
     },
     "execution_count": 11,
     "metadata": {},
     "output_type": "execute_result"
    }
   ],
   "source": [
    "#task_14 Знайти рік із найбільшою кількістю гендерно нейтральних імен (однакові чоловічі та жіночі імена)\n",
    "group = pd.DataFrame(data.groupby([\"Year\", \"Gender\"])[\"Name\"].unique())\n",
    "year_set = list(set([item[0] for item in group.index]))\n",
    "\n",
    "m_array = group.loc[(year_set[0], \"M\")].values[0]\n",
    "f_array = group.loc[(year_set[0], \"F\")].values[0]\n",
    "max_count = len(np.intersect1d(m_array, f_array))\n",
    "max_year = year_set[0]\n",
    "for i in range(1, len(year_set)):\n",
    "    year = year_set[i]\n",
    "    m_array = group.loc[(year, \"M\")].values[0]\n",
    "    f_array = group.loc[(year, \"F\")].values[0]\n",
    "    count = len(np.intersect1d(m_array, f_array))\n",
    "    if count > max_count:\n",
    "        max_count = count\n",
    "        max_year = year\n",
    "\n",
    "pd.DataFrame([[max_year, max_count]], columns=[\"Year\", \"Gender_neutral_names\"])\n"
   ],
   "metadata": {
    "collapsed": false
   }
  },
  {
   "cell_type": "code",
   "execution_count": 12,
   "outputs": [
    {
     "data": {
      "text/plain": "1957"
     },
     "execution_count": 12,
     "metadata": {},
     "output_type": "execute_result"
    }
   ],
   "source": [
    "#task_16 Знайдіть рік, коли народилося найбільше дітей\n",
    "group = data.groupby([\"Year\"])[\"Count\"].sum()\n",
    "group.idxmax()"
   ],
   "metadata": {
    "collapsed": false
   }
  },
  {
   "cell_type": "code",
   "execution_count": 13,
   "outputs": [
    {
     "data": {
      "text/plain": "            F        M\nYear                  \n1880    90993   110491\n1881    91954   100745\n1882   107850   113688\n1883   112321   104629\n1884   129022   114445\n...       ...      ...\n2010  1772738  1913851\n2011  1753500  1893230\n2012  1753922  1889414\n2013  1745339  1881463\n2014  1768775  1901376\n\n[135 rows x 2 columns]",
      "text/html": "<div>\n<style scoped>\n    .dataframe tbody tr th:only-of-type {\n        vertical-align: middle;\n    }\n\n    .dataframe tbody tr th {\n        vertical-align: top;\n    }\n\n    .dataframe thead th {\n        text-align: right;\n    }\n</style>\n<table border=\"1\" class=\"dataframe\">\n  <thead>\n    <tr style=\"text-align: right;\">\n      <th></th>\n      <th>F</th>\n      <th>M</th>\n    </tr>\n    <tr>\n      <th>Year</th>\n      <th></th>\n      <th></th>\n    </tr>\n  </thead>\n  <tbody>\n    <tr>\n      <th>1880</th>\n      <td>90993</td>\n      <td>110491</td>\n    </tr>\n    <tr>\n      <th>1881</th>\n      <td>91954</td>\n      <td>100745</td>\n    </tr>\n    <tr>\n      <th>1882</th>\n      <td>107850</td>\n      <td>113688</td>\n    </tr>\n    <tr>\n      <th>1883</th>\n      <td>112321</td>\n      <td>104629</td>\n    </tr>\n    <tr>\n      <th>1884</th>\n      <td>129022</td>\n      <td>114445</td>\n    </tr>\n    <tr>\n      <th>...</th>\n      <td>...</td>\n      <td>...</td>\n    </tr>\n    <tr>\n      <th>2010</th>\n      <td>1772738</td>\n      <td>1913851</td>\n    </tr>\n    <tr>\n      <th>2011</th>\n      <td>1753500</td>\n      <td>1893230</td>\n    </tr>\n    <tr>\n      <th>2012</th>\n      <td>1753922</td>\n      <td>1889414</td>\n    </tr>\n    <tr>\n      <th>2013</th>\n      <td>1745339</td>\n      <td>1881463</td>\n    </tr>\n    <tr>\n      <th>2014</th>\n      <td>1768775</td>\n      <td>1901376</td>\n    </tr>\n  </tbody>\n</table>\n<p>135 rows × 2 columns</p>\n</div>"
     },
     "execution_count": 13,
     "metadata": {},
     "output_type": "execute_result"
    }
   ],
   "source": [
    "#task_17 Знайдіть кількість дівчаток та хлопчиків, які народились кожного року\n",
    "\n",
    "group_f = data.loc[data[\"Gender\"] == \"F\"].groupby([\"Year\", \"Gender\"])[\"Count\"].sum()\n",
    "group_m = data.loc[data[\"Gender\"] == \"M\"].groupby([\"Year\", \"Gender\"])[\"Count\"].sum()\n",
    "\n",
    "group_f_m = pd.merge(group_f, group_m, on=[\"Year\"])\n",
    "group_f_m.rename(columns={\"Count_x\": \"F\", \"Count_y\": \"M\"}, inplace=True)\n",
    "group_f_m"
   ],
   "metadata": {
    "collapsed": false
   }
  },
  {
   "cell_type": "code",
   "execution_count": 14,
   "outputs": [
    {
     "data": {
      "text/plain": "54"
     },
     "execution_count": 14,
     "metadata": {},
     "output_type": "execute_result"
    }
   ],
   "source": [
    "#task_18 Підрахуйте кількість років, коли дівчаток народжувалось більше, ніж хлопчиків\n",
    "\n",
    "group_f_m.loc[group_f_m[\"F\"] > group_f_m[\"M\"]][\"F\"].count()"
   ],
   "metadata": {
    "collapsed": false
   }
  },
  {
   "cell_type": "code",
   "execution_count": 15,
   "outputs": [
    {
     "data": {
      "text/plain": "<AxesSubplot:xlabel='Year'>"
     },
     "execution_count": 15,
     "metadata": {},
     "output_type": "execute_result"
    },
    {
     "data": {
      "text/plain": "<Figure size 640x480 with 1 Axes>",
      "image/png": "[encoded data removed]"
     },
     "metadata": {},
     "output_type": "display_data"
    }
   ],
   "source": [
    "#task_19 Накресліть графік загальної кількості народжень хлопчиків та дівчаток на рік.\n",
    "\n",
    "group_f_m.plot()"
   ],
   "metadata": {
    "collapsed": false
   }
  },
  {
   "cell_type": "code",
   "execution_count": 29,
   "outputs": [
    {
     "data": {
      "text/plain": "10221"
     },
     "execution_count": 29,
     "metadata": {},
     "output_type": "execute_result"
    }
   ],
   "source": [
    "#task_20 Підрахуйте кількість гендерно-нейтральних імен (однакових для дівчат та хлопців)\n",
    "\n",
    "group_f = data.loc[data[\"Gender\"] == \"F\"][\"Name\"].unique()\n",
    "group_m = data.loc[data[\"Gender\"] == \"M\"][\"Name\"].unique()\n",
    "\n",
    "len(np.intersect1d(group_f, group_m))"
   ],
   "metadata": {
    "collapsed": false
   }
  },
  {
   "cell_type": "code",
   "execution_count": 33,
   "outputs": [
    {
     "data": {
      "text/plain": "'Спостереження проводилося 135 років'"
     },
     "execution_count": 33,
     "metadata": {},
     "output_type": "execute_result"
    }
   ],
   "source": [
    "#task_22 Підрахуйте скільки років проводилось спостереження\n",
    "min_year = data[\"Year\"].min()\n",
    "max_year = data[\"Year\"].max()\n",
    "period = max_year - min_year + 1\n",
    "f'Спостереження проводилося {period} років'"
   ],
   "metadata": {
    "collapsed": false
   }
  },
  {
   "cell_type": "code",
   "execution_count": 41,
   "outputs": [
    {
     "data": {
      "text/plain": "array(['Francis', 'James', 'Jean', 'Jesse', 'Jessie', 'John', 'Johnnie',\n       'Joseph', 'Lee', 'Leslie', 'Marion', 'Ollie', 'Robert', 'Sidney',\n       'Tommie', 'William'], dtype=object)"
     },
     "execution_count": 41,
     "metadata": {},
     "output_type": "execute_result"
    }
   ],
   "source": [
    "#task_23 Знати найпопулярніші гендерно-нейтральні імена (ті, що присутні кожного року)\n",
    "\n",
    "def get_unique_names(group_):\n",
    "    res = np.array([])\n",
    "    for j in range(0, len(group_)):\n",
    "        if len(res) == 0:\n",
    "            res = group_.iloc[j]\n",
    "        else:\n",
    "            res = np.intersect1d(res, group_.iloc[j])\n",
    "\n",
    "    return res\n",
    "\n",
    "\n",
    "group_f = data.loc[data[\"Gender\"] == \"F\"].groupby([\"Year\"])[\"Name\"].unique()\n",
    "group_m = data.loc[data[\"Gender\"] == \"M\"].groupby([\"Year\"])[\"Name\"].unique()\n",
    "unique_f = get_unique_names(group_f)\n",
    "unique_m = get_unique_names(group_m)\n",
    "np.intersect1d(unique_f, unique_m)"
   ],
   "metadata": {
    "collapsed": false
   }
  },
  {
   "cell_type": "code",
   "execution_count": 43,
   "outputs": [
    {
     "data": {
      "text/plain": "5"
     },
     "execution_count": 43,
     "metadata": {},
     "output_type": "execute_result"
    }
   ],
   "source": [
    "#task_24 Знайти найпопулярніше серед непопулярних імен (непопулярне ім’я, яким називали дітей найбільшу кількість разів )\n",
    "data[\"Count\"].min()"
   ],
   "metadata": {
    "collapsed": false
   }
  },
  {
   "cell_type": "code",
   "execution_count": null,
   "outputs": [],
   "source": [],
   "metadata": {
    "collapsed": false
   }
  }
 ],
 "metadata": {
  "kernelspec": {
   "display_name": "Python 3 (ipykernel)",
   "language": "python",
   "name": "python3"
  },
  "language_info": {
   "codemirror_mode": {
    "name": "ipython",
    "version": 3
   },
   "file_extension": ".py",
   "mimetype": "text/x-python",
   "name": "python",
   "nbconvert_exporter": "python",
   "pygments_lexer": "ipython3",
   "version": "3.7.7"
  }
 },
 "nbformat": 4,
 "nbformat_minor": 5
}
