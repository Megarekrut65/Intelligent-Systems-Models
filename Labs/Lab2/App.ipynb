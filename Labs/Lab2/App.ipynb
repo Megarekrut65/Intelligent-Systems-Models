{
 "cells": [
  {
   "cell_type": "code",
   "execution_count": 97,
   "id": "3fbf9cb7",
   "metadata": {},
   "outputs": [],
   "source": [
    "import numpy as np\n",
    "import time\n",
    "\n",
    "def start_measuring(action):\n",
    "    start = time.time()\n",
    "    action()\n",
    "    end = time.time()\n",
    "    return f\"{end - start:.4f}s\"\n",
    "\n",
    "def compare_algos(numpy, own):\n",
    "     return f\"numpy: {start_measuring(numpy)} \", f\"own: {start_measuring(own)}\"\n"
   ]
  },
  {
   "cell_type": "markdown",
   "id": "450f2bce",
   "metadata": {},
   "source": [
    "*Вправа 2.* Вводиться число *n*. Розставити 1 та 0 у шаховому порядку, починаючи з 1 в матриці *n×n*, використовуючи слайсінг."
   ]
  },
  {
   "cell_type": "code",
   "execution_count": 98,
   "id": "d89572c6",
   "metadata": {},
   "outputs": [],
   "source": [
    "def task_2_numpy_algo(n):\n",
    "    matrix = np.zeros((n,n), int)\n",
    "    matrix[::2,::2] = 1\n",
    "    matrix[1::2,1::2] = 1\n",
    "    # print(matrix)\n",
    "\n",
    "def task_2_algo(n):\n",
    "    # matrix = [[1 if (i + j) % 2 == 0 else 0 for j in range(0, n)] for i in range(0, n)]\n",
    "    matrix = [[0]*n for _ in range(0, n)]\n",
    "    line1 = [i % 2 for i in range(1, n+1)]\n",
    "    line2 = [i % 2 for i in range(0, n)]\n",
    "    matrix[::2] = [line1 for _ in range(0, len(matrix[::2]))]\n",
    "    matrix[1::2] = [line2 for _ in range(0, len(matrix[1::2]))]\n",
    "    # for i in matrix: print(i)\n",
    "\n",
    "def task_2():\n",
    "    try:\n",
    "        n = int(input())\n",
    "    except ValueError:\n",
    "        return \"Enter only number!\"\n",
    "\n",
    "    return compare_algos(lambda : task_2_numpy_algo(n), lambda : task_2_algo(n))"
   ]
  },
  {
   "cell_type": "code",
   "execution_count": 99,
   "id": "fa4b2fef",
   "metadata": {},
   "outputs": [
    {
     "data": {
      "text/plain": "('numpy: 0.1322s ', 'own: 1.1728s')"
     },
     "execution_count": 99,
     "metadata": {},
     "output_type": "execute_result"
    }
   ],
   "source": [
    "task_2()"
   ]
  },
  {
   "cell_type": "markdown",
   "id": "17753407",
   "metadata": {},
   "source": [
    "*Вправа 3*. Вводяться 4 числа *n, m, r, c*. Вивести масив розміру\n",
    "*n×m*, в якому в кожному рядку з номером *r* і в кожному стовпчику з\n",
    "номером *c* стоять 0, а інші елементи дорівнюють 1."
   ]
  },
  {
   "cell_type": "code",
   "execution_count": 105,
   "id": "6c2062cc",
   "metadata": {},
   "outputs": [],
   "source": [
    "def task_3_numpy_algo(n, m, r, c):\n",
    "    matrix = np.ones((n,m), int)\n",
    "    matrix[r] = np.zeros(m)\n",
    "    matrix[::, c] = 0\n",
    "    # print(matrix)\n",
    "\n",
    "def task_3_algo(n, m, r, c):\n",
    "    matrix = [[1]*m for _ in range(0, n)]\n",
    "    matrix[r] = [0]*m\n",
    "    for row in matrix:\n",
    "        row[c] = 0\n",
    "    # for i in matrix: print(i)\n",
    "\n",
    "def task_3():\n",
    "    inputs = input().split(\" \")\n",
    "    if len(inputs) != 4:\n",
    "        return \"There must be only 4 numbers!\"\n",
    "    nums = []\n",
    "    for i in inputs:\n",
    "        try:\n",
    "            nums.append(int(i))\n",
    "        except ValueError:\n",
    "            return \"Enter only number!\"\n",
    "    n, m, r, c = nums\n",
    "    if r > n or c > m:\n",
    "        return \"Indexes out of range\"\n",
    "\n",
    "    return compare_algos(lambda : task_3_numpy_algo(n, m, r, c), lambda : task_3_algo(n, m, r, c))"
   ]
  },
  {
   "cell_type": "code",
   "execution_count": 106,
   "id": "6dc36b70",
   "metadata": {},
   "outputs": [
    {
     "data": {
      "text/plain": "('numpy: 0.0091s ', 'own: 0.0700s')"
     },
     "execution_count": 106,
     "metadata": {},
     "output_type": "execute_result"
    }
   ],
   "source": [
    "task_3()"
   ]
  },
  {
   "cell_type": "code",
   "execution_count": null,
   "outputs": [],
   "source": [],
   "metadata": {
    "collapsed": false
   }
  }
 ],
 "metadata": {
  "kernelspec": {
   "display_name": "Python 3 (ipykernel)",
   "language": "python",
   "name": "python3"
  },
  "language_info": {
   "codemirror_mode": {
    "name": "ipython",
    "version": 3
   },
   "file_extension": ".py",
   "mimetype": "text/x-python",
   "name": "python",
   "nbconvert_exporter": "python",
   "pygments_lexer": "ipython3",
   "version": "3.7.7"
  }
 },
 "nbformat": 4,
 "nbformat_minor": 5
}
