{
 "cells": [
  {
   "cell_type": "code",
   "execution_count": 4,
   "id": "3fbf9cb7",
   "metadata": {},
   "outputs": [],
   "source": [
    "import numpy as np\n",
    "import time\n",
    "from math import ceil\n",
    "import  random\n",
    "\n",
    "def start_measuring(action):\n",
    "    start = time.time()\n",
    "    action()\n",
    "    end = time.time()\n",
    "    return f\"{end - start:.4f}s\"\n",
    "\n",
    "def compare_algos(numpy, own):\n",
    "     return f\"numpy: {start_measuring(numpy)} \", f\"own: {start_measuring(own)}\"\n"
   ]
  },
  {
   "cell_type": "markdown",
   "id": "450f2bce",
   "metadata": {},
   "source": [
    "*Вправа 2.* Вводиться число *n*. Розставити 1 та 0 у шаховому порядку, починаючи з 1 в матриці *n×n*, використовуючи слайсінг."
   ]
  },
  {
   "cell_type": "code",
   "execution_count": 5,
   "id": "d89572c6",
   "metadata": {},
   "outputs": [],
   "source": [
    "def task_2_numpy_algo(n):\n",
    "    matrix = np.zeros((n,n), int)\n",
    "    matrix[::2,::2] = 1\n",
    "    matrix[1::2,1::2] = 1\n",
    "    # print(matrix)\n",
    "\n",
    "def task_2_algo(n):\n",
    "    matrix = [[0]*n for _ in range(0, n)]\n",
    "    line1 = [i % 2 for i in range(1, n+1)]\n",
    "    line2 = [i % 2 for i in range(0, n)]\n",
    "    matrix[::2] = [line1 for _ in range(0, len(matrix[::2]))]\n",
    "    matrix[1::2] = [line2 for _ in range(0, len(matrix[1::2]))]\n",
    "    # for i in matrix: print(i)\n",
    "\n",
    "def task_2():\n",
    "    try:\n",
    "        n = int(input())\n",
    "    except ValueError:\n",
    "        return \"Enter only number!\"\n",
    "\n",
    "    return compare_algos(lambda : task_2_numpy_algo(n), lambda : task_2_algo(n))"
   ]
  },
  {
   "cell_type": "code",
   "execution_count": 6,
   "id": "fa4b2fef",
   "metadata": {},
   "outputs": [
    {
     "name": "stdout",
     "output_type": "stream",
     "text": [
      "10000\n"
     ]
    },
    {
     "data": {
      "text/plain": [
       "('numpy: 0.1320s ', 'own: 0.9083s')"
      ]
     },
     "execution_count": 6,
     "metadata": {},
     "output_type": "execute_result"
    }
   ],
   "source": [
    "task_2()"
   ]
  },
  {
   "cell_type": "markdown",
   "id": "17753407",
   "metadata": {},
   "source": [
    "*Вправа 3.* Вводяться 4 числа *n, m, r, c*. Вивести масив розміру\n",
    "*n×m*, в якому в кожному рядку з номером *r* і в кожному стовпчику з\n",
    "номером *c* стоять 0, а інші елементи дорівнюють 1."
   ]
  },
  {
   "cell_type": "code",
   "execution_count": 7,
   "id": "6c2062cc",
   "metadata": {},
   "outputs": [],
   "source": [
    "def task_3_numpy_algo(n, m, r, c):\n",
    "    matrix = np.ones((n,m), int)\n",
    "    matrix[::r] = np.zeros(m)\n",
    "    matrix[::, ::c] = 0\n",
    "    # print(matrix)\n",
    "\n",
    "def task_3_algo(n, m, r, c):\n",
    "    matrix = [[1]*m for _ in range(0, n)]\n",
    "    matrix[::r] = [[0]*m for _ in matrix[::r]]\n",
    "    for row in matrix:\n",
    "        row[::c] = [0 for _ in row[::c]]\n",
    "    # for i in matrix: print(i)\n",
    "\n",
    "def task_3():\n",
    "    inputs = input().split(\" \")\n",
    "    if len(inputs) != 4:\n",
    "        return \"There must be only 4 numbers!\"\n",
    "    nums = []\n",
    "    for i in inputs:\n",
    "        try:\n",
    "            nums.append(int(i))\n",
    "        except ValueError:\n",
    "            return \"Enter only number!\"\n",
    "    n, m, r, c = nums\n",
    "    if r > n or c > m:\n",
    "        return \"Indexes out of range\"\n",
    "\n",
    "    return compare_algos(lambda : task_3_numpy_algo(n, m, r, c), lambda : task_3_algo(n, m, r, c))"
   ]
  },
  {
   "cell_type": "code",
   "execution_count": 8,
   "id": "6dc36b70",
   "metadata": {},
   "outputs": [
    {
     "name": "stdout",
     "output_type": "stream",
     "text": [
      "10000 1000 300 100\n"
     ]
    },
    {
     "data": {
      "text/plain": [
       "('numpy: 0.0179s ', 'own: 0.0970s')"
      ]
     },
     "execution_count": 8,
     "metadata": {},
     "output_type": "execute_result"
    }
   ],
   "source": [
    "task_3()"
   ]
  },
  {
   "cell_type": "markdown",
   "id": "131b4a63",
   "metadata": {},
   "source": [
    "*Вправа 5.* Вводиться число *n*. Вивести масив розміру *n×n*, в\n",
    "якому в рядках з парними індексами стоять 1, а в інших – 0."
   ]
  },
  {
   "cell_type": "code",
   "execution_count": 9,
   "id": "cdc943f2",
   "metadata": {},
   "outputs": [],
   "source": [
    "def task_5_numpy_algo(n):\n",
    "    matrix = np.zeros((n,n), int)\n",
    "    matrix[::2, ::] = 1\n",
    "    # print(matrix)\n",
    "\n",
    "def task_5_algo(n):\n",
    "    matrix = [[0]*n for _ in range(0, n)]\n",
    "    matrix[::2] = [[1]*n for _ in matrix[::2]]\n",
    "    # for i in matrix: print(i)\n",
    "\n",
    "def task_5():\n",
    "    try:\n",
    "        n = int(input())\n",
    "    except ValueError:\n",
    "        return \"Enter only number!\"\n",
    "\n",
    "    return compare_algos(lambda : task_5_numpy_algo(n), lambda : task_5_algo(n))"
   ]
  },
  {
   "cell_type": "code",
   "execution_count": 10,
   "id": "e1fb7698",
   "metadata": {},
   "outputs": [
    {
     "name": "stdout",
     "output_type": "stream",
     "text": [
      "10000\n"
     ]
    },
    {
     "data": {
      "text/plain": [
       "('numpy: 0.0735s ', 'own: 1.6297s')"
      ]
     },
     "execution_count": 10,
     "metadata": {},
     "output_type": "execute_result"
    }
   ],
   "source": [
    "task_5()"
   ]
  },
  {
   "cell_type": "markdown",
   "id": "6aeed628",
   "metadata": {},
   "source": [
    "*Вправа 9.* Вводиться число *n*. Створити масив значень від *n* до 0."
   ]
  },
  {
   "cell_type": "code",
   "execution_count": 11,
   "id": "3b88411b",
   "metadata": {},
   "outputs": [],
   "source": [
    "def task_9_numpy_algo(n):\n",
    "    array = np.arange(n, -1, -1)\n",
    "    # print(array)\n",
    "\n",
    "def task_9_algo(n):\n",
    "    array = [i for i in range(n, -1, -1)]\n",
    "    # print(array)\n",
    "\n",
    "def task_9():\n",
    "    try:\n",
    "        n = int(input())\n",
    "    except ValueError:\n",
    "        return \"Enter only number!\"\n",
    "\n",
    "    return compare_algos(lambda : task_9_numpy_algo(n), lambda : task_9_algo(n))"
   ]
  },
  {
   "cell_type": "code",
   "execution_count": 12,
   "id": "5162f2d3",
   "metadata": {},
   "outputs": [
    {
     "name": "stdout",
     "output_type": "stream",
     "text": [
      "10000000\n"
     ]
    },
    {
     "data": {
      "text/plain": [
       "('numpy: 0.0170s ', 'own: 0.4708s')"
      ]
     },
     "execution_count": 12,
     "metadata": {},
     "output_type": "execute_result"
    }
   ],
   "source": [
    "task_9()"
   ]
  },
  {
   "cell_type": "markdown",
   "id": "3e51e924",
   "metadata": {},
   "source": [
    "*Вправа 13.* Розмістити на полі *8×8* нулі та одиниці в шахматному\n",
    "порядку, використовуючи функцію повторення (*)."
   ]
  },
  {
   "cell_type": "code",
   "execution_count": 13,
   "id": "5109626e",
   "metadata": {},
   "outputs": [],
   "source": [
    "def task_13_numpy_algo():\n",
    "    matrix = np.zeros((8,8), int)\n",
    "    matrix[::2] = [0,1] * 4\n",
    "    matrix[1::2] = [1,0] * 4\n",
    "    # print(matrix)\n",
    "\n",
    "def task_13_algo():\n",
    "    matrix = [[0]*8 for _ in range(0, 8)]\n",
    "    matrix[::2] = [[0, 1]*4 for _ in matrix[::2]]\n",
    "    matrix[1::2] = [[1, 0]*4 for _ in matrix[1::2]]\n",
    "    # for i in matrix: print(i)\n",
    "\n",
    "def task_13():\n",
    "    return compare_algos(lambda : task_13_numpy_algo(), lambda : task_13_algo())"
   ]
  },
  {
   "cell_type": "code",
   "execution_count": 15,
   "id": "edddd440",
   "metadata": {},
   "outputs": [
    {
     "data": {
      "text/plain": [
       "('numpy: 0.0000s ', 'own: 0.0000s')"
      ]
     },
     "execution_count": 15,
     "metadata": {},
     "output_type": "execute_result"
    }
   ],
   "source": [
    "task_13()"
   ]
  },
  {
   "cell_type": "markdown",
   "id": "664675ca",
   "metadata": {},
   "source": [
    "*Вправа 14.* Розмістити на полі *8×8* нулі та одиниці в шахматному\n",
    "порядку, використовуючи функцію **numpy tile()**."
   ]
  },
  {
   "cell_type": "code",
   "execution_count": 16,
   "id": "00d81caf",
   "metadata": {},
   "outputs": [],
   "source": [
    "def task_14_numpy_algo():\n",
    "    matrix = np.zeros((8,8), int)\n",
    "    matrix[::2] = np.tile([0,1], 4)\n",
    "    matrix[1::2] = np.tile([1,0], 4)\n",
    "    # print(matrix)\n",
    "\n",
    "def task_14_algo():\n",
    "    matrix = [[0]*8 for _ in range(0, 8)]\n",
    "    matrix[::2] = [[0, 1]*4 for _ in matrix[::2]]\n",
    "    matrix[1::2] = [[1, 0]*4 for _ in matrix[1::2]]\n",
    "    # for i in matrix: print(i)\n",
    "\n",
    "def task_14():\n",
    "    return compare_algos(lambda : task_14_numpy_algo(), lambda : task_14_algo())"
   ]
  },
  {
   "cell_type": "code",
   "execution_count": 17,
   "id": "3fae2327",
   "metadata": {},
   "outputs": [
    {
     "data": {
      "text/plain": [
       "('numpy: 0.0000s ', 'own: 0.0000s')"
      ]
     },
     "execution_count": 17,
     "metadata": {},
     "output_type": "execute_result"
    }
   ],
   "source": [
    "task_14()"
   ]
  },
  {
   "cell_type": "markdown",
   "id": "8449f9e3",
   "metadata": {},
   "source": [
    "*Вправа 16.* Заповнити вектор значеннями від 0 до *n*. Всі значення,\n",
    "що більші за *n*/4 та менші за 3*n*/4 замінити нулями."
   ]
  },
  {
   "cell_type": "code",
   "execution_count": 18,
   "id": "00b4565d",
   "metadata": {},
   "outputs": [],
   "source": [
    "def task_16_numpy_algo(n):\n",
    "    array = np.arange(0, n+1)\n",
    "    array[ceil(n/4)+1:ceil(3*n/4)] = 0\n",
    "    # print(array)\n",
    "\n",
    "def task_16_algo(n):\n",
    "    array = [i for i in range(0, n+1)]\n",
    "    for i in range(ceil(n/4)+1, ceil(3*n/4)):\n",
    "        array[i] = 0\n",
    "    # print(array)\n",
    "\n",
    "def task_16():\n",
    "    try:\n",
    "        n = int(input())\n",
    "    except ValueError:\n",
    "        return \"Enter only number!\"\n",
    "    return compare_algos(lambda : task_16_numpy_algo(n), lambda : task_16_algo(n))"
   ]
  },
  {
   "cell_type": "code",
   "execution_count": 19,
   "id": "c3821aee",
   "metadata": {},
   "outputs": [
    {
     "name": "stdout",
     "output_type": "stream",
     "text": [
      "10000000\n"
     ]
    },
    {
     "data": {
      "text/plain": [
       "('numpy: 0.0156s ', 'own: 0.5983s')"
      ]
     },
     "execution_count": 19,
     "metadata": {},
     "output_type": "execute_result"
    }
   ],
   "source": [
    "task_16()"
   ]
  },
  {
   "cell_type": "markdown",
   "id": "126a9bdc",
   "metadata": {},
   "source": [
    "*Вправа 17.* Заповнити вектор значеннями від 0 до *n*. Замінити\n",
    "знаки для всіх значень, що менші за *n*/2 та більші за 3*n*/4 на\n",
    "протилежні."
   ]
  },
  {
   "cell_type": "code",
   "execution_count": 20,
   "id": "98c39b78",
   "metadata": {},
   "outputs": [],
   "source": [
    "def task_17_numpy_algo(n):\n",
    "    array = np.arange(0, n + 1)\n",
    "    array[0:ceil(n / 2)] *= -1\n",
    "    array[ceil(3*n / 4):] *= -1\n",
    "    # print(array)\n",
    "\n",
    "\n",
    "def task_17_algo(n):\n",
    "    array = [i for i in range(0, n + 1)]\n",
    "    for i in range(0, ceil(n / 2)):\n",
    "        array[i] *= -1\n",
    "    for i in range(ceil(3*n / 4), n + 1):\n",
    "        array[i] *= -1\n",
    "    # print(array)\n",
    "\n",
    "\n",
    "def task_17():\n",
    "    try:\n",
    "        n = int(input())\n",
    "    except ValueError:\n",
    "        return \"Enter only number!\"\n",
    "    return compare_algos(lambda: task_17_numpy_algo(n), lambda: task_17_algo(n))\n"
   ]
  },
  {
   "cell_type": "code",
   "execution_count": 21,
   "id": "429a69c9",
   "metadata": {},
   "outputs": [
    {
     "name": "stdout",
     "output_type": "stream",
     "text": [
      "10000000\n"
     ]
    },
    {
     "data": {
      "text/plain": [
       "('numpy: 0.0209s ', 'own: 0.9746s')"
      ]
     },
     "execution_count": 21,
     "metadata": {},
     "output_type": "execute_result"
    }
   ],
   "source": [
    "task_17()"
   ]
  },
  {
   "cell_type": "markdown",
   "id": "227a143d",
   "metadata": {},
   "source": [
    "*Вправа 20.* Згенерувати вектор із *n* випадкових елементів, що\n",
    "лежать в інтервалі (0,1). Замінити максимальний елемент на 0."
   ]
  },
  {
   "cell_type": "code",
   "execution_count": 22,
   "id": "f8f08c6c",
   "metadata": {},
   "outputs": [],
   "source": [
    "def task_20_numpy_algo(n):\n",
    "    array = np.random.rand(n)\n",
    "    # print(f\"Початковий вектор {array:}\")\n",
    "    array[np.argmax(array)] = 0\n",
    "    # print(f\"Змінений вектор {array}\")\n",
    "\n",
    "\n",
    "def task_20_algo(n):\n",
    "    array = [random.random() for _ in range(0, n)]\n",
    "    # print(f\"Початковий вектор {array:}\")\n",
    "    max_index = 0\n",
    "    for i in range(1, n):\n",
    "        if array[i] > array[max_index]:\n",
    "            max_index = i\n",
    "    array[max_index] = 0\n",
    "    # print(f\"Змінений вектор {array}\")\n",
    "\n",
    "\n",
    "def task_20():\n",
    "    try:\n",
    "        n = int(input())\n",
    "    except ValueError:\n",
    "        return \"Enter only number!\"\n",
    "    return compare_algos(lambda: task_20_numpy_algo(n), lambda: task_20_algo(n))"
   ]
  },
  {
   "cell_type": "code",
   "execution_count": 23,
   "id": "d280aae0",
   "metadata": {},
   "outputs": [
    {
     "name": "stdout",
     "output_type": "stream",
     "text": [
      "10000000\n"
     ]
    },
    {
     "data": {
      "text/plain": [
       "('numpy: 0.0782s ', 'own: 1.3563s')"
      ]
     },
     "execution_count": 23,
     "metadata": {},
     "output_type": "execute_result"
    }
   ],
   "source": [
    "task_20()"
   ]
  },
  {
   "cell_type": "markdown",
   "id": "5f54145f",
   "metadata": {},
   "source": [
    "##### Розв’язати систему алгебраїчних рівнянь за допомогою формул Крамера і виконати перевірку за допомогою:\n",
    "1. матричного множення;\n",
    "2. оберненої матриці;\n",
    "3. функції numpy.linalg.solve().\n",
    "\n",
    "$$\n",
    "\\left\\{\n",
    "    \\begin{array}\\\\\n",
    "        x_1 + 2x_2 + 3x_3 - 2x_4 = 6 \\\\\n",
    "        x_1 - x_2 - 2x_3 - 3x_4 = 8 \\\\\n",
    "        3x_1 + 2x_2 - x_3 + 2x_4 = 4 \\\\\n",
    "        2x_1 - 3x_2 + 2x_3 + x_4 = -8\n",
    "    \\end{array}\n",
    "\\right.\n",
    "$$"
   ]
  },
  {
   "cell_type": "code",
   "execution_count": 24,
   "id": "0dff865f",
   "metadata": {},
   "outputs": [],
   "source": [
    "def kramer_algo(matrix, vector):\n",
    "    n = len(vector)\n",
    "    det = np.linalg.det(matrix)\n",
    "    res = []\n",
    "    for i in range(0, n):\n",
    "        sub = np.copy(matrix)\n",
    "        sub[:,i]=vector\n",
    "        res.append(np.linalg.det(sub)/det)\n",
    "\n",
    "    return np.array(res)\n",
    "\n",
    "\n",
    "def task_linear():\n",
    "    matrix = np.array([  [1, 2,  3,  -2],\n",
    "                [1, -1, -2, -3],\n",
    "                [3, 2,  -1, 2],\n",
    "                [2, -3, 2,  1]])\n",
    "    vector = np.array([6, 8, 4, -8])\n",
    "\n",
    "    print(f\"matrix = {matrix}\\nvector = {vector}\\n\")\n",
    "\n",
    "    res = kramer_algo(matrix, vector)\n",
    "    print(f\"res = {res}\\n\")\n",
    "\n",
    "    vector_mul = matrix.dot(res)\n",
    "    print(f\"matrix * res = {vector_mul} == vector - {np.allclose(vector, vector_mul)}\")\n",
    "\n",
    "    res_inv = np.linalg.inv(matrix).dot(vector)\n",
    "    print(f\"matrix^-1 * vector = {res_inv} == res - {np.allclose(res, res_inv)}\")\n",
    "\n",
    "    res_lin = np.linalg.solve(matrix, vector)\n",
    "    print(f\"linalg.solve = {res_lin} == res - {np.allclose(res, res_lin)}\")\n"
   ]
  },
  {
   "cell_type": "code",
   "execution_count": 25,
   "id": "2b7e944d",
   "metadata": {},
   "outputs": [
    {
     "name": "stdout",
     "output_type": "stream",
     "text": [
      "matrix = [[ 1  2  3 -2]\n",
      " [ 1 -1 -2 -3]\n",
      " [ 3  2 -1  2]\n",
      " [ 2 -3  2  1]]\n",
      "vector = [ 6  8  4 -8]\n",
      "\n",
      "res = [ 1.125   1.9375 -1.125  -2.1875]\n",
      "\n",
      "matrix * res = [ 6.  8.  4. -8.] == vector - True\n",
      "matrix^-1 * vector = [ 1.125   1.9375 -1.125  -2.1875] == res - True\n",
      "linalg.solve = [ 1.125   1.9375 -1.125  -2.1875] == res - True\n"
     ]
    }
   ],
   "source": [
    "task_linear()"
   ]
  },
  {
   "cell_type": "markdown",
   "id": "6d39b9ec",
   "metadata": {},
   "source": [
    "Обчислити значення матричного виразу:\n",
    "1. з використанням універсальних функцій бібліотеки NumPy.\n",
    "2. за допомогою ітеративних конструкцій (з використанням\n",
    "циклів, спискових включень тощо).\n",
    "3. для обох випадків підрахувати час виконання скрипту та\n",
    "зробити висновок.\n",
    "Порівняти всі рішення за допомогою функції numpy.allclose().\n",
    "\n",
    "$$\n",
    "3A - (A - 2B)B \\\\\\\\\n",
    "де  A = \\begin{pmatrix} 4 & 5 & -2 \\\\ 3 & -1 & 0 \\\\ 4 & 2 & 7 \\end{pmatrix}, \n",
    "B = \\begin{pmatrix} 2 & 1 & -1 \\\\ 0 & 1 & 3 \\\\ 5 & 7 & 3 \\end{pmatrix}\n",
    "$$"
   ]
  },
  {
   "cell_type": "code",
   "execution_count": 26,
   "id": "f25d2b18",
   "metadata": {},
   "outputs": [],
   "source": [
    "from copy import deepcopy\n",
    "\n",
    "\n",
    "def task_matrix_numpy_algo(matrix_a, matrix_b):\n",
    "    np_a = np.array(matrix_a)\n",
    "    np_b = np.array(matrix_b)\n",
    "    res = 3 * np_a - (np_a - 2 * np_b).dot(np_b)\n",
    "    # print(res)\n",
    "    return res\n",
    "\n",
    "\n",
    "def matrix_constant(constant, matrix):\n",
    "    res = deepcopy(matrix)\n",
    "    for i in range(0, len(res)):\n",
    "        for j in range(0, len(res)):\n",
    "            res[i][j] *= constant\n",
    "\n",
    "    return res\n",
    "\n",
    "\n",
    "def matrix_addition(matrix_a, matrix_b):\n",
    "    res = deepcopy(matrix_a)\n",
    "    for i in range(0, len(res)):\n",
    "        for j in range(0, len(res)):\n",
    "            res[i][j] += matrix_b[i][j]\n",
    "\n",
    "    return res\n",
    "\n",
    "\n",
    "def matrix_multiplication(matrix_a, matrix_b):\n",
    "    res = [[0]*len(matrix_a) for _ in range(0, len(matrix_a))]\n",
    "    for i in range(0, len(res)):\n",
    "        for j in range(0, len(res)):\n",
    "            for k in range(0, len(res)):\n",
    "                res[i][j] += matrix_a[i][k] * matrix_b[k][j]\n",
    "\n",
    "    return res\n",
    "\n",
    "def task_matrix_algo(matrix_a, matrix_b):\n",
    "    res = matrix_addition(\n",
    "        matrix_constant(3, matrix_a),\n",
    "        matrix_constant(-1,matrix_multiplication(\n",
    "                                matrix_addition(\n",
    "                                    matrix_a,\n",
    "                                    matrix_constant(-2, matrix_b)),\n",
    "                                matrix_b)))\n",
    "    # print(res)\n",
    "    return res\n",
    "\n",
    "\n",
    "def task_matrix():\n",
    "    matrix_a = [[4, 5, -2],\n",
    "              [3, -1, 0],\n",
    "              [4, 2, 7]]\n",
    "    matrix_b =  [[2, 1, -1],\n",
    "              [0, 1, 3],\n",
    "              [5, 7, 3]]\n",
    "\n",
    "    res_num = task_matrix_numpy_algo(matrix_a, matrix_b)\n",
    "    res_algo = task_matrix_algo(matrix_a, matrix_b)\n",
    "\n",
    "    print(f\"res_num == res_algo - {np.allclose(res_num, res_algo)}\")\n",
    "\n",
    "    return compare_algos(\n",
    "        lambda: task_matrix_numpy_algo(matrix_a, matrix_b),\n",
    "        lambda: task_matrix_algo(matrix_a, matrix_b))"
   ]
  },
  {
   "cell_type": "code",
   "execution_count": 28,
   "id": "2f93adee",
   "metadata": {},
   "outputs": [
    {
     "name": "stdout",
     "output_type": "stream",
     "text": [
      "res_num == res_algo - True\n"
     ]
    },
    {
     "data": {
      "text/plain": [
       "('numpy: 0.0000s ', 'own: 0.0000s')"
      ]
     },
     "execution_count": 28,
     "metadata": {},
     "output_type": "execute_result"
    }
   ],
   "source": [
    "task_matrix()"
   ]
  },
  {
   "cell_type": "code",
   "execution_count": null,
   "id": "528b6d5c",
   "metadata": {
    "pycharm": {
     "is_executing": true
    }
   },
   "outputs": [],
   "source": []
  }
 ],
 "metadata": {
  "kernelspec": {
   "display_name": "Python 3 (ipykernel)",
   "language": "python",
   "name": "python3"
  },
  "language_info": {
   "codemirror_mode": {
    "name": "ipython",
    "version": 3
   },
   "file_extension": ".py",
   "mimetype": "text/x-python",
   "name": "python",
   "nbconvert_exporter": "python",
   "pygments_lexer": "ipython3",
   "version": "3.7.7"
  }
 },
 "nbformat": 4,
 "nbformat_minor": 5
}
