{
 "cells": [
  {
   "cell_type": "code",
   "execution_count": 42,
   "id": "3fbf9cb7",
   "metadata": {},
   "outputs": [],
   "source": [
    "import numpy as np\n",
    "import time\n",
    "from math import ceil\n",
    "import  random\n",
    "\n",
    "def start_measuring(action):\n",
    "    start = time.time()\n",
    "    action()\n",
    "    end = time.time()\n",
    "    return f\"{end - start:.4f}s\"\n",
    "\n",
    "def compare_algos(numpy, own):\n",
    "     return f\"numpy: {start_measuring(numpy)} \", f\"own: {start_measuring(own)}\"\n"
   ]
  },
  {
   "cell_type": "markdown",
   "id": "450f2bce",
   "metadata": {},
   "source": [
    "*Вправа 2.* Вводиться число *n*. Розставити 1 та 0 у шаховому порядку, починаючи з 1 в матриці *n×n*, використовуючи слайсінг."
   ]
  },
  {
   "cell_type": "code",
   "execution_count": 2,
   "id": "d89572c6",
   "metadata": {},
   "outputs": [],
   "source": [
    "def task_2_numpy_algo(n):\n",
    "    matrix = np.zeros((n,n), int)\n",
    "    matrix[::2,::2] = 1\n",
    "    matrix[1::2,1::2] = 1\n",
    "    # print(matrix)\n",
    "\n",
    "def task_2_algo(n):\n",
    "    # matrix = [[1 if (i + j) % 2 == 0 else 0 for j in range(0, n)] for i in range(0, n)]\n",
    "    matrix = [[0]*n for _ in range(0, n)]\n",
    "    line1 = [i % 2 for i in range(1, n+1)]\n",
    "    line2 = [i % 2 for i in range(0, n)]\n",
    "    matrix[::2] = [line1 for _ in range(0, len(matrix[::2]))]\n",
    "    matrix[1::2] = [line2 for _ in range(0, len(matrix[1::2]))]\n",
    "    # for i in matrix: print(i)\n",
    "\n",
    "def task_2():\n",
    "    try:\n",
    "        n = int(input())\n",
    "    except ValueError:\n",
    "        return \"Enter only number!\"\n",
    "\n",
    "    return compare_algos(lambda : task_2_numpy_algo(n), lambda : task_2_algo(n))"
   ]
  },
  {
   "cell_type": "code",
   "execution_count": 3,
   "id": "fa4b2fef",
   "metadata": {},
   "outputs": [
    {
     "data": {
      "text/plain": "'Enter only number!'"
     },
     "execution_count": 3,
     "metadata": {},
     "output_type": "execute_result"
    }
   ],
   "source": [
    "task_2()"
   ]
  },
  {
   "cell_type": "markdown",
   "id": "17753407",
   "metadata": {},
   "source": [
    "*Вправа 3.* Вводяться 4 числа *n, m, r, c*. Вивести масив розміру\n",
    "*n×m*, в якому в кожному рядку з номером *r* і в кожному стовпчику з\n",
    "номером *c* стоять 0, а інші елементи дорівнюють 1."
   ]
  },
  {
   "cell_type": "code",
   "execution_count": 4,
   "id": "6c2062cc",
   "metadata": {},
   "outputs": [],
   "source": [
    "def task_3_numpy_algo(n, m, r, c):\n",
    "    matrix = np.ones((n,m), int)\n",
    "    matrix[::r] = np.zeros(m)\n",
    "    matrix[::, ::c] = 0\n",
    "    # print(matrix)\n",
    "\n",
    "def task_3_algo(n, m, r, c):\n",
    "    matrix = [[1]*m for _ in range(0, n)]\n",
    "    matrix[::r] = [[0]*m for _ in matrix[::r]]\n",
    "    for row in matrix:\n",
    "        row[::c] = [0 for _ in row[::c]]\n",
    "    # for i in matrix: print(i)\n",
    "\n",
    "def task_3():\n",
    "    inputs = input().split(\" \")\n",
    "    if len(inputs) != 4:\n",
    "        return \"There must be only 4 numbers!\"\n",
    "    nums = []\n",
    "    for i in inputs:\n",
    "        try:\n",
    "            nums.append(int(i))\n",
    "        except ValueError:\n",
    "            return \"Enter only number!\"\n",
    "    n, m, r, c = nums\n",
    "    if r > n or c > m:\n",
    "        return \"Indexes out of range\"\n",
    "\n",
    "    return compare_algos(lambda : task_3_numpy_algo(n, m, r, c), lambda : task_3_algo(n, m, r, c))"
   ]
  },
  {
   "cell_type": "code",
   "execution_count": 5,
   "id": "6dc36b70",
   "metadata": {},
   "outputs": [
    {
     "data": {
      "text/plain": "'There must be only 4 numbers!'"
     },
     "execution_count": 5,
     "metadata": {},
     "output_type": "execute_result"
    }
   ],
   "source": [
    "task_3()"
   ]
  },
  {
   "cell_type": "markdown",
   "id": "131b4a63",
   "metadata": {},
   "source": [
    "*Вправа 5.* Вводиться число *n*. Вивести масив розміру *n×n*, в\n",
    "якому в рядках з парними індексами стоять 1, а в інших – 0."
   ]
  },
  {
   "cell_type": "code",
   "execution_count": 6,
   "id": "cdc943f2",
   "metadata": {},
   "outputs": [],
   "source": [
    "def task_5_numpy_algo(n):\n",
    "    matrix = np.zeros((n,n), int)\n",
    "    matrix[::2, ::] = 1\n",
    "    # print(matrix)\n",
    "\n",
    "def task_5_algo(n):\n",
    "    matrix = [[0]*n for _ in range(0, n)]\n",
    "    matrix[::2] = [[1]*n for _ in matrix[::2]]\n",
    "    # for i in matrix: print(i)\n",
    "\n",
    "def task_5():\n",
    "    try:\n",
    "        n = int(input())\n",
    "    except ValueError:\n",
    "        return \"Enter only number!\"\n",
    "\n",
    "    return compare_algos(lambda : task_5_numpy_algo(n), lambda : task_5_algo(n))"
   ]
  },
  {
   "cell_type": "code",
   "execution_count": 7,
   "id": "e1fb7698",
   "metadata": {},
   "outputs": [
    {
     "data": {
      "text/plain": "'Enter only number!'"
     },
     "execution_count": 7,
     "metadata": {},
     "output_type": "execute_result"
    }
   ],
   "source": [
    "task_5()"
   ]
  },
  {
   "cell_type": "markdown",
   "id": "6aeed628",
   "metadata": {},
   "source": [
    "*Вправа 9.* Вводиться число *n*. Створити масив значень від *n* до 0."
   ]
  },
  {
   "cell_type": "code",
   "execution_count": 8,
   "id": "3b88411b",
   "metadata": {},
   "outputs": [],
   "source": [
    "def task_9_numpy_algo(n):\n",
    "    array = np.arange(n, -1, -1)\n",
    "    # print(array)\n",
    "\n",
    "def task_9_algo(n):\n",
    "    array = [i for i in range(n, -1, -1)]\n",
    "    # print(array)\n",
    "\n",
    "def task_9():\n",
    "    try:\n",
    "        n = int(input())\n",
    "    except ValueError:\n",
    "        return \"Enter only number!\"\n",
    "\n",
    "    return compare_algos(lambda : task_9_numpy_algo(n), lambda : task_9_algo(n))"
   ]
  },
  {
   "cell_type": "code",
   "execution_count": 9,
   "id": "5162f2d3",
   "metadata": {},
   "outputs": [
    {
     "data": {
      "text/plain": "'Enter only number!'"
     },
     "execution_count": 9,
     "metadata": {},
     "output_type": "execute_result"
    }
   ],
   "source": [
    "task_9()"
   ]
  },
  {
   "cell_type": "markdown",
   "id": "3e51e924",
   "metadata": {},
   "source": [
    "*Вправа 13.* Розмістити на полі *8×8* нулі та одиниці в шахматному\n",
    "порядку, використовуючи функцію повторення (*)."
   ]
  },
  {
   "cell_type": "code",
   "execution_count": 10,
   "id": "5109626e",
   "metadata": {},
   "outputs": [],
   "source": [
    "def task_13_numpy_algo():\n",
    "    matrix = np.zeros((8,8), int)\n",
    "    matrix[::2] = [0,1] * 4\n",
    "    matrix[1::2] = [1,0] * 4\n",
    "    # print(matrix)\n",
    "\n",
    "def task_13_algo():\n",
    "    matrix = [[0]*8 for _ in range(0, 8)]\n",
    "    matrix[::2] = [[0, 1]*4 for _ in matrix[::2]]\n",
    "    matrix[1::2] = [[1, 0]*4 for _ in matrix[1::2]]\n",
    "    # for i in matrix: print(i)\n",
    "\n",
    "def task_13():\n",
    "    return compare_algos(lambda : task_13_numpy_algo(), lambda : task_13_algo())"
   ]
  },
  {
   "cell_type": "code",
   "execution_count": 11,
   "id": "edddd440",
   "metadata": {},
   "outputs": [
    {
     "data": {
      "text/plain": "('numpy: 0.0000s ', 'own: 0.0000s')"
     },
     "execution_count": 11,
     "metadata": {},
     "output_type": "execute_result"
    }
   ],
   "source": [
    "task_13()"
   ]
  },
  {
   "cell_type": "markdown",
   "id": "664675ca",
   "metadata": {},
   "source": [
    "*Вправа 14.* Розмістити на полі *8×8* нулі та одиниці в шахматному\n",
    "порядку, використовуючи функцію **numpy tile()**."
   ]
  },
  {
   "cell_type": "code",
   "execution_count": 12,
   "id": "00d81caf",
   "metadata": {},
   "outputs": [],
   "source": [
    "def task_14_numpy_algo():\n",
    "    matrix = np.zeros((8,8), int)\n",
    "    matrix[::2] = np.tile([0,1], 4)\n",
    "    matrix[1::2] = np.tile([1,0], 4)\n",
    "    # print(matrix)\n",
    "\n",
    "def task_14_algo():\n",
    "    matrix = [[0]*8 for _ in range(0, 8)]\n",
    "    matrix[::2] = [[0, 1]*4 for _ in matrix[::2]]\n",
    "    matrix[1::2] = [[1, 0]*4 for _ in matrix[1::2]]\n",
    "    # for i in matrix: print(i)\n",
    "\n",
    "def task_14():\n",
    "    return compare_algos(lambda : task_14_numpy_algo(), lambda : task_14_algo())"
   ]
  },
  {
   "cell_type": "code",
   "execution_count": 13,
   "id": "3fae2327",
   "metadata": {},
   "outputs": [
    {
     "data": {
      "text/plain": "('numpy: 0.0000s ', 'own: 0.0000s')"
     },
     "execution_count": 13,
     "metadata": {},
     "output_type": "execute_result"
    }
   ],
   "source": [
    "task_14()"
   ]
  },
  {
   "cell_type": "markdown",
   "id": "8449f9e3",
   "metadata": {},
   "source": [
    "*Вправа 16.* Заповнити вектор значеннями від 0 до *n*. Всі значення,\n",
    "що більші за *n*/4 та менші за 3*n*/4 замінити нулями."
   ]
  },
  {
   "cell_type": "code",
   "execution_count": 30,
   "id": "00b4565d",
   "metadata": {},
   "outputs": [],
   "source": [
    "def task_16_numpy_algo(n):\n",
    "    array = np.arange(0, n+1)\n",
    "    array[ceil(n/4)+1:ceil(3*n/4)] = 0\n",
    "    # print(array)\n",
    "\n",
    "def task_16_algo(n):\n",
    "    array = [i for i in range(0, n+1)]\n",
    "    for i in range(ceil(n/4)+1, ceil(3*n/4)):\n",
    "        array[i] = 0\n",
    "    # print(array)\n",
    "\n",
    "def task_16():\n",
    "    try:\n",
    "        n = int(input())\n",
    "    except ValueError:\n",
    "        return \"Enter only number!\"\n",
    "    return compare_algos(lambda : task_16_numpy_algo(n), lambda : task_16_algo(n))"
   ]
  },
  {
   "cell_type": "code",
   "execution_count": 31,
   "outputs": [
    {
     "data": {
      "text/plain": "('numpy: 0.0000s ', 'own: 0.0000s')"
     },
     "execution_count": 31,
     "metadata": {},
     "output_type": "execute_result"
    }
   ],
   "source": [
    "task_16()"
   ],
   "metadata": {
    "collapsed": false
   }
  },
  {
   "cell_type": "markdown",
   "id": "126a9bdc",
   "metadata": {},
   "source": [
    "*Вправа 17.* Заповнити вектор значеннями від 0 до *n*. Замінити\n",
    "знаки для всіх значень, що менші за *n*/2 та більші за 3*n*/4 на\n",
    "протилежні."
   ]
  },
  {
   "cell_type": "code",
   "execution_count": 28,
   "id": "98c39b78",
   "metadata": {},
   "outputs": [],
   "source": [
    "def task_17_numpy_algo(n):\n",
    "    array = np.arange(0, n + 1)\n",
    "    array[0:ceil(n / 2)] *= -1\n",
    "    array[ceil(3*n / 4):] *= -1\n",
    "    # print(array)\n",
    "\n",
    "\n",
    "def task_17_algo(n):\n",
    "    array = [i for i in range(0, n + 1)]\n",
    "    for i in range(0, ceil(n / 2)):\n",
    "        array[i] *= -1\n",
    "    for i in range(ceil(3*n / 4), n + 1):\n",
    "        array[i] *= -1\n",
    "    # print(array)\n",
    "\n",
    "\n",
    "def task_17():\n",
    "    try:\n",
    "        n = int(input())\n",
    "    except ValueError:\n",
    "        return \"Enter only number!\"\n",
    "    return compare_algos(lambda: task_17_numpy_algo(n), lambda: task_17_algo(n))\n"
   ]
  },
  {
   "cell_type": "code",
   "execution_count": 33,
   "outputs": [
    {
     "data": {
      "text/plain": "('numpy: 0.0156s ', 'own: 1.0615s')"
     },
     "execution_count": 33,
     "metadata": {},
     "output_type": "execute_result"
    }
   ],
   "source": [
    "task_17()"
   ],
   "metadata": {
    "collapsed": false
   }
  },
  {
   "cell_type": "markdown",
   "id": "227a143d",
   "metadata": {},
   "source": [
    "*Вправа 20.* Згенерувати вектор із *n* випадкових елементів, що\n",
    "лежать в інтервалі (0,1). Замінити максимальний елемент на 0."
   ]
  },
  {
   "cell_type": "code",
   "execution_count": 45,
   "id": "f8f08c6c",
   "metadata": {},
   "outputs": [],
   "source": [
    "def task_20_numpy_algo(n):\n",
    "    array = np.random.rand(n)\n",
    "    # print(f\"Початковий вектор {array:}\")\n",
    "    array[np.argmax(array)] = 0\n",
    "    # print(f\"Змінений вектор {array}\")\n",
    "\n",
    "\n",
    "def task_20_algo(n):\n",
    "    array = [random.random() for _ in range(0, n)]\n",
    "    # print(f\"Початковий вектор {array:}\")\n",
    "    max_index = 0\n",
    "    for i in range(1, n):\n",
    "        if array[i] > array[max_index]:\n",
    "            max_index = i\n",
    "    array[max_index] = 0\n",
    "    # print(f\"Змінений вектор {array}\")\n",
    "\n",
    "\n",
    "def task_20():\n",
    "    try:\n",
    "        n = int(input())\n",
    "    except ValueError:\n",
    "        return \"Enter only number!\"\n",
    "    return compare_algos(lambda: task_20_numpy_algo(n), lambda: task_20_algo(n))"
   ]
  },
  {
   "cell_type": "code",
   "execution_count": 46,
   "outputs": [
    {
     "data": {
      "text/plain": "('numpy: 0.0776s ', 'own: 1.5228s')"
     },
     "execution_count": 46,
     "metadata": {},
     "output_type": "execute_result"
    }
   ],
   "source": [
    "task_20()"
   ],
   "metadata": {
    "collapsed": false
   }
  },
  {
   "cell_type": "code",
   "execution_count": null,
   "outputs": [],
   "source": [],
   "metadata": {
    "collapsed": false
   }
  }
 ],
 "metadata": {
  "kernelspec": {
   "display_name": "Python 3 (ipykernel)",
   "language": "python",
   "name": "python3"
  },
  "language_info": {
   "codemirror_mode": {
    "name": "ipython",
    "version": 3
   },
   "file_extension": ".py",
   "mimetype": "text/x-python",
   "name": "python",
   "nbconvert_exporter": "python",
   "pygments_lexer": "ipython3",
   "version": "3.7.7"
  }
 },
 "nbformat": 4,
 "nbformat_minor": 5
}
